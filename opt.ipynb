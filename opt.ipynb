{
 "cells": [
  {
   "cell_type": "code",
   "execution_count": 380,
   "id": "7718efcd-e295-474c-89f0-1f950808be66",
   "metadata": {},
   "outputs": [],
   "source": [
    "#pip install biolearn -U"
   ]
  },
  {
   "cell_type": "code",
   "execution_count": 1,
   "id": "8c6cf352-48f1-40ce-bd25-64035b56e28a",
   "metadata": {},
   "outputs": [],
   "source": [
    "import pandas as pd\n",
    "from biolearn.data_library import DataLibrary\n",
    "from biolearn.model_gallery import ModelGallery\n",
    "gallery = ModelGallery()\n",
    "from biolearn.model import DeconvolutionModel\n",
    "import numpy as np\n",
    "from scipy import stats\n",
    "import time\n",
    "import seaborn as sns\n",
    "import matplotlib.pyplot as plt\n",
    "data_path='/data/gladyshev/mm1286/data/'\n",
    "\n",
    "dic={'cd4nv':'CD4nv',\n",
    "     'cd4mem':'CD4mem',\n",
    "     'treg':'Treg',\n",
    "     'cd8nv':'CD8nv',\n",
    "     'cd8mem':'CD8mem',\n",
    "     'bnv':'Bnv',\n",
    "     'bmem':'Bmem',\n",
    "     'nk':'NK',\n",
    "     'mono':'Mono',\n",
    "     'neu':'Neu',\n",
    "     'eos':'Eos',\n",
    "     'bas':'Bas',\n",
    "     'Baso':'Bas', \n",
    "     'Bn': 'Bnv',\n",
    "     'CD4m':'CD4mem',\n",
    "     'CD4n':'CD4nv',\n",
    "     'EOS2':'Eos',\n",
    "     'Tem0':'CD8mem',\n",
    "     'Tn':'CD8nv',\n",
    "    }"
   ]
  },
  {
   "cell_type": "code",
   "execution_count": 143,
   "id": "fc4881e5-26b9-48d3-9fc0-cffd3ab1e9b1",
   "metadata": {},
   "outputs": [
    {
     "data": {
      "text/plain": [
       "(846233, 12)"
      ]
     },
     "execution_count": 143,
     "metadata": {},
     "output_type": "execute_result"
    }
   ],
   "source": [
    "man=pd.read_csv(data_path+'/ref/man_e1.csv',index_col=0)\n",
    "man.shape"
   ]
  },
  {
   "cell_type": "code",
   "execution_count": 83,
   "id": "ca7e8d3e-cafa-47ae-ae9d-e03bfe044866",
   "metadata": {},
   "outputs": [],
   "source": [
    "#art mix\n",
    "art = DataLibrary().get(\"GSE182379\").load()\n",
    "art.metadata=art.metadata.rename(columns=dic)"
   ]
  },
  {
   "cell_type": "code",
   "execution_count": 3,
   "id": "99c7dfb2-8a5b-4ab0-b416-6c8ed54fed26",
   "metadata": {},
   "outputs": [
    {
     "name": "stdout",
     "output_type": "stream",
     "text": [
      "CPU times: user 13.6 s, sys: 1.58 s, total: 15.2 s\n",
      "Wall time: 18.1 s\n"
     ]
    }
   ],
   "source": [
    "%%time\n",
    "#sorted\n",
    "mat2=data_path+'ref/cell_comp/GSE167998_matrix_processed.txt'\n",
    "dnam2=pd.read_table(mat2,nrows=10**6,index_col=0,skiprows=0,usecols=[0]+list(range(1,136,2)))"
   ]
  },
  {
   "cell_type": "code",
   "execution_count": 4,
   "id": "dffedf0d-bf7f-46ef-997c-54cb98bb57cf",
   "metadata": {},
   "outputs": [],
   "source": [
    "meta2_='https://ftp.ncbi.nlm.nih.gov/geo/series/GSE167nnn/GSE167998/matrix/GSE167998_series_matrix.txt.gz'\n",
    "meta2=pd.read_table(meta2_,skiprows=38,index_col=0,nrows=1,header=None).T\n",
    "meta2['!Sample_title']=meta2['!Sample_title'].str[:4]\n",
    "meta2.index=dnam2.columns\n",
    "meta2=meta2.squeeze()\n",
    "meta_m2=meta2[meta2=='mem ']\n",
    "meta2=meta2[meta2!='mem ']\n",
    "meta2.loc[meta2.str[:2]=='Bn']='Bn'\n",
    "meta2.loc[meta2.str[:2]=='Tn']='Tn'\n",
    "meta2.loc[meta2.str[:2]=='NK']='NK'\n",
    "meta2.loc[(meta2.str[:2]=='WB')|(meta2=='PCA0')|(meta2=='Neut')]='Neu'"
   ]
  },
  {
   "cell_type": "code",
   "execution_count": 254,
   "id": "1c83be05-88a9-4eef-9093-cd2b6352869e",
   "metadata": {},
   "outputs": [
    {
     "name": "stdout",
     "output_type": "stream",
     "text": [
      "CPU times: user 119 ms, sys: 2.97 ms, total: 122 ms\n",
      "Wall time: 746 ms\n"
     ]
    }
   ],
   "source": [
    "%%time\n",
    "meta_mix2=pd.read_table(meta2_,skiprows=39,index_col=0,nrows=50).iloc[34:47]\n",
    "meta_mix2.columns=dnam2.columns\n",
    "meta_mix2=meta_mix2[meta_m2.index]\n",
    "meta_mix2.index=meta_mix2.iloc[:,0].str.split(': ').str[0]\n",
    "for c in meta_mix2.columns:\n",
    "    meta_mix2[c]=meta_mix2[c].str.split(': ').str[1].astype(float)\n",
    "meta_mix2=meta_mix2.rename(index=dic)"
   ]
  },
  {
   "cell_type": "code",
   "execution_count": 8,
   "id": "49c90a51-d5c0-4527-81c9-e59d0c383a01",
   "metadata": {},
   "outputs": [],
   "source": [
    "meta2=meta2.replace(dic)"
   ]
  },
  {
   "cell_type": "code",
   "execution_count": 9,
   "id": "19ca6d88-9252-4e6e-b5b6-a0c31745f1db",
   "metadata": {},
   "outputs": [],
   "source": [
    "dt=dnam2.T.join(meta2.rename('cell'),how='inner')"
   ]
  },
  {
   "cell_type": "code",
   "execution_count": 10,
   "id": "4b5c349f-73ab-4d59-9200-f7877c338f3c",
   "metadata": {},
   "outputs": [],
   "source": [
    "ref=dt.groupby('cell').mean().T\n"
   ]
  },
  {
   "cell_type": "code",
   "execution_count": 32,
   "id": "aa037e7e-9141-4be3-af8d-0427849b0f48",
   "metadata": {},
   "outputs": [
    {
     "name": "stderr",
     "output_type": "stream",
     "text": [
      "/PHShome/mm1286/anaconda3/envs/p311/lib/python3.11/site-packages/scipy/stats/_axis_nan_policy.py:523: RuntimeWarning: Precision loss occurred in moment calculation due to catastrophic cancellation. This occurs when the data are nearly identical. Results may be unreliable.\n",
      "  res = hypotest_fun_out(*samples, **kwds)\n"
     ]
    },
    {
     "name": "stdout",
     "output_type": "stream",
     "text": [
      "CD4nv   9.287379201253255\n",
      "CD4mem   8.651944847901662\n",
      "Bas   8.80765354235967\n",
      "Bmem   8.812497047583262\n",
      "Bnv   9.46589417854945\n",
      "Treg   8.789982191721599\n",
      "CD8mem   8.850065139929454\n",
      "CD8nv   8.780399942398072\n",
      "Eos   8.882055521011353\n",
      "NK   8.789116700490316\n",
      "Neu   8.666344463825226\n",
      "Mono   8.90350779692332\n",
      "CPU times: user 1h 45min 32s, sys: 57.9 s, total: 1h 46min 30s\n",
      "Wall time: 1h 46min 41s\n"
     ]
    }
   ],
   "source": [
    "%%time\n",
    "n=-1 \n",
    "ps={}\n",
    "for cell in list(dt['cell'].unique()):\n",
    "    t0=time.time()\n",
    "    ps[cell]=[]\n",
    "    rvs1=dt[dt['cell']==cell]\n",
    "    rvs2=dt[dt['cell']!=cell]\n",
    "    for cg in dt.columns[:n]:\n",
    "        ps[cell].append(stats.ttest_ind(rvs1[cg], rvs2[cg]).statistic)\n",
    "    print(cell, ' ',(time.time()-t0)/60)        "
   ]
  },
  {
   "cell_type": "code",
   "execution_count": 33,
   "id": "c18f7b48-e10f-4dc6-b12a-37eda060defc",
   "metadata": {},
   "outputs": [
    {
     "name": "stdout",
     "output_type": "stream",
     "text": [
      "CPU times: user 13 s, sys: 262 ms, total: 13.2 s\n",
      "Wall time: 16.7 s\n"
     ]
    }
   ],
   "source": [
    "%%time\n",
    "df=pd.DataFrame(ps,index=dt.columns[:-1])\n",
    "df=df.rename(columns=dic)\n",
    "df.to_csv(data_path+'comp/ss.csv')"
   ]
  },
  {
   "cell_type": "code",
   "execution_count": 162,
   "id": "f14e37f0-8ae4-44d5-8204-e6fbb67cb649",
   "metadata": {},
   "outputs": [
    {
     "data": {
      "text/plain": [
       "(846180, 12)"
      ]
     },
     "execution_count": 162,
     "metadata": {},
     "output_type": "execute_result"
    }
   ],
   "source": [
    "df=df[df.index.isin(man.index)]\n",
    "df.shape"
   ]
  },
  {
   "cell_type": "code",
   "execution_count": 307,
   "id": "f9be855e-f2b0-4c5d-af98-5b9f8456d292",
   "metadata": {},
   "outputs": [],
   "source": [
    "cgs=[]\n",
    "n=100\n",
    "for c in df.columns:\n",
    "    cgs.append(pd.Series(df[c].sort_values().head(n).index,index=n*[c]))\n",
    "    cgs.append(pd.Series(df[c].sort_values().tail(n).index,index=n*[c]))\n",
    "cgs=pd.concat(cgs)"
   ]
  },
  {
   "cell_type": "code",
   "execution_count": 330,
   "id": "548c2dbc-a950-42ec-9012-ce9b74eed589",
   "metadata": {},
   "outputs": [],
   "source": [
    "thre=10\n",
    "cors=[]\n",
    "for i,c in cgs.items():\n",
    "    cors.append([c,art.metadata[[i]].corrwith(art.dnam.loc[c]).values[0]])\n",
    "cors=pd.DataFrame(cors,index=cgs.index)\n",
    "cors['c']=cors.index\n",
    "cors['r']=cors[1].abs()\n",
    "#corsf=cors[cors['r']>thre]#.groupby('c').size()\n",
    "corstop=[]\n",
    "for i in df.columns:\n",
    "    corstop.append(pd.concat([cors[cors['c']==i].sort_values(1).head(thre),cors[cors['c']==i].sort_values(1).tail(thre)]))"
   ]
  },
  {
   "cell_type": "code",
   "execution_count": 331,
   "id": "48fe8fc9-8043-4e28-9439-62976e20d61c",
   "metadata": {},
   "outputs": [],
   "source": [
    "corsf=pd.concat(corstop)"
   ]
  },
  {
   "cell_type": "code",
   "execution_count": 332,
   "id": "3277bde7-ed24-41d9-b28d-ba62fcb6c737",
   "metadata": {},
   "outputs": [
    {
     "data": {
      "text/plain": [
       "240"
      ]
     },
     "execution_count": 332,
     "metadata": {},
     "output_type": "execute_result"
    }
   ],
   "source": [
    "cgs=corsf[0]\n",
    "len(cgs)"
   ]
  },
  {
   "cell_type": "code",
   "execution_count": 333,
   "id": "8e3bf455-7f72-4b93-8509-3961f523a3eb",
   "metadata": {},
   "outputs": [
    {
     "data": {
      "text/plain": [
       "(240,)"
      ]
     },
     "execution_count": 333,
     "metadata": {},
     "output_type": "execute_result"
    }
   ],
   "source": [
    "cgs=cgs.drop_duplicates()\n",
    "cgs.shape"
   ]
  },
  {
   "cell_type": "code",
   "execution_count": 378,
   "id": "d1e0e4aa-4fd3-4e6b-ba06-f2234453327e",
   "metadata": {},
   "outputs": [],
   "source": [
    "ref.loc[cgs].round(6).to_csv('12.csv')"
   ]
  },
  {
   "cell_type": "code",
   "execution_count": 334,
   "id": "242efda2-41e9-47c4-8cc9-8c072c9484f9",
   "metadata": {},
   "outputs": [],
   "source": [
    "    dec = gallery.get(\"DeconvoluteBloodEPIC\")\n",
    "    dec.reference=ref.loc[cgs]\n",
    "    pred = dec.predict(art)"
   ]
  },
  {
   "cell_type": "code",
   "execution_count": 335,
   "id": "5995485b-d697-4f43-a1ab-07909af71f96",
   "metadata": {},
   "outputs": [
    {
     "name": "stdout",
     "output_type": "stream",
     "text": [
      "               0\n",
      "cell            \n",
      "CD4nv   0.950860\n",
      "Bmem    0.973534\n",
      "CD8mem  0.979990\n",
      "CD4mem  0.982289\n",
      "CD8nv   0.984117\n",
      "Mono    0.985659\n",
      "Treg    0.986146\n",
      "Eos     0.988211\n",
      "Neu     0.993216\n",
      "Bas     0.996592\n",
      "NK      0.997041\n",
      "Bnv     0.997089\n"
     ]
    }
   ],
   "source": [
    "corsm=[]\n",
    "for c in pred.index:\n",
    "    corsm.append(art.metadata[[c]].corrwith(pred.loc[c]).values[0])\n",
    "corsm=pd.DataFrame(corsm,index=pred.index).sort_values(0)\n",
    "print(corsm)"
   ]
  },
  {
   "cell_type": "code",
   "execution_count": 336,
   "id": "dfb14670-1796-41f3-87dc-380d1f5b30ee",
   "metadata": {},
   "outputs": [],
   "source": [
    "pl=art.metadata.copy()\n",
    "obs=art.metadata.columns\n",
    "pl.columns=[c+'_o' for c in obs]"
   ]
  },
  {
   "cell_type": "code",
   "execution_count": 337,
   "id": "ce2ffc2c-97de-471b-a56c-f5f2940326f6",
   "metadata": {},
   "outputs": [],
   "source": [
    "pl=pl.join(pred.T)"
   ]
  },
  {
   "cell_type": "code",
   "execution_count": 338,
   "id": "127a7fb6-1684-46bd-91b3-12cb56cd1551",
   "metadata": {},
   "outputs": [],
   "source": [
    "pl=pl.melt(value_vars=obs,value_name='pred').join(pl.melt(value_vars=[c+'_o' for c in obs],var_name='ob_var',value_name='ob'))"
   ]
  },
  {
   "cell_type": "code",
   "execution_count": 339,
   "id": "b6f997f6-8752-4b71-9e4c-bfb2d1e99f4f",
   "metadata": {},
   "outputs": [],
   "source": [
    "pl['ob']=pl['ob'].astype(float)"
   ]
  },
  {
   "cell_type": "code",
   "execution_count": 340,
   "id": "438c7f40-4c64-4a0d-8300-c9420cfcb217",
   "metadata": {},
   "outputs": [
    {
     "data": {
      "text/plain": [
       "<Axes: xlabel='ob', ylabel='pred'>"
      ]
     },
     "execution_count": 340,
     "metadata": {},
     "output_type": "execute_result"
    },
    {
     "data": {
      "image/png": "[encoded data removed]",
      "text/plain": [
       "<Figure size 640x480 with 1 Axes>"
      ]
     },
     "metadata": {},
     "output_type": "display_data"
    }
   ],
   "source": [
    "sns.scatterplot(data=pl,x='ob',y='pred',hue='variable')"
   ]
  },
  {
   "cell_type": "code",
   "execution_count": 382,
   "id": "12600289-bac4-41f9-a593-6aa66626e8f6",
   "metadata": {},
   "outputs": [
    {
     "name": "stdout",
     "output_type": "stream",
     "text": [
      "CPU times: user 96 ms, sys: 4.28 s, total: 4.37 s\n",
      "Wall time: 12.7 s\n"
     ]
    },
    {
     "data": {
      "text/plain": [
       "(825095, 461)"
      ]
     },
     "execution_count": 382,
     "metadata": {},
     "output_type": "execute_result"
    }
   ],
   "source": [
    "%%time\n",
    "df=pd.read_pickle(data_path+'mgb/dna.pkl')\n",
    "df.shape"
   ]
  },
  {
   "cell_type": "code",
   "execution_count": 383,
   "id": "19cb3a9a-51a3-4153-9e1a-eb6986ce2e1a",
   "metadata": {},
   "outputs": [],
   "source": [
    "dec = gallery.get(\"TwelveCellDeconvoluteBloodEPIC\")"
   ]
  },
  {
   "cell_type": "code",
   "execution_count": 392,
   "id": "0f1f640e-e478-4aeb-b70a-17a13e995525",
   "metadata": {},
   "outputs": [],
   "source": [
    "art2.dnam=df"
   ]
  },
  {
   "cell_type": "code",
   "execution_count": 394,
   "id": "9839a7a5-f472-4d2a-b2c6-4ed7ca33d57c",
   "metadata": {},
   "outputs": [
    {
     "name": "stdout",
     "output_type": "stream",
     "text": [
      "WARNING: methylation data contains missing values. Rows with missing values will be removed\n"
     ]
    }
   ],
   "source": [
    "pred=dec.predict(art2)"
   ]
  },
  {
   "cell_type": "code",
   "execution_count": 398,
   "id": "15494560-d948-494a-ad89-8888d2c3fd2e",
   "metadata": {},
   "outputs": [],
   "source": [
    "meta=pd.read_csv(data_path+'mgb/meta.csv',index_col=0)"
   ]
  },
  {
   "cell_type": "code",
   "execution_count": 406,
   "id": "d25dd155-ab38-4f07-b7b1-e42a31f14870",
   "metadata": {},
   "outputs": [
    {
     "data": {
      "text/html": [
       "<div>\n",
       "<style scoped>\n",
       "    .dataframe tbody tr th:only-of-type {\n",
       "        vertical-align: middle;\n",
       "    }\n",
       "\n",
       "    .dataframe tbody tr th {\n",
       "        vertical-align: top;\n",
       "    }\n",
       "\n",
       "    .dataframe thead th {\n",
       "        text-align: right;\n",
       "    }\n",
       "</style>\n",
       "<table border=\"1\" class=\"dataframe\">\n",
       "  <thead>\n",
       "    <tr style=\"text-align: right;\">\n",
       "      <th></th>\n",
       "      <th>plate</th>\n",
       "      <th>age_at_sample</th>\n",
       "      <th>dead</th>\n",
       "      <th>years_until_death</th>\n",
       "      <th>Bas</th>\n",
       "      <th>Bmem</th>\n",
       "      <th>Bnv</th>\n",
       "      <th>CD4mem</th>\n",
       "      <th>CD4nv</th>\n",
       "      <th>CD8mem</th>\n",
       "      <th>CD8nv</th>\n",
       "      <th>Eos</th>\n",
       "      <th>Mono</th>\n",
       "      <th>NK</th>\n",
       "      <th>Neu</th>\n",
       "      <th>Treg</th>\n",
       "    </tr>\n",
       "  </thead>\n",
       "  <tbody>\n",
       "    <tr>\n",
       "      <th>plate</th>\n",
       "      <td>1.000000</td>\n",
       "      <td>-0.026642</td>\n",
       "      <td>0.021707</td>\n",
       "      <td>-0.208154</td>\n",
       "      <td>-0.029999</td>\n",
       "      <td>0.032109</td>\n",
       "      <td>0.037655</td>\n",
       "      <td>-0.025950</td>\n",
       "      <td>-0.005130</td>\n",
       "      <td>-0.004257</td>\n",
       "      <td>0.011967</td>\n",
       "      <td>-0.018448</td>\n",
       "      <td>0.041491</td>\n",
       "      <td>-0.073871</td>\n",
       "      <td>0.010409</td>\n",
       "      <td>-0.048369</td>\n",
       "    </tr>\n",
       "    <tr>\n",
       "      <th>age_at_sample</th>\n",
       "      <td>-0.026642</td>\n",
       "      <td>1.000000</td>\n",
       "      <td>0.368178</td>\n",
       "      <td>-0.092349</td>\n",
       "      <td>0.070323</td>\n",
       "      <td>-0.038432</td>\n",
       "      <td>-0.123961</td>\n",
       "      <td>0.193372</td>\n",
       "      <td>-0.177211</td>\n",
       "      <td>0.074971</td>\n",
       "      <td>-0.681621</td>\n",
       "      <td>0.057173</td>\n",
       "      <td>0.227632</td>\n",
       "      <td>0.254280</td>\n",
       "      <td>0.072809</td>\n",
       "      <td>-0.084063</td>\n",
       "    </tr>\n",
       "    <tr>\n",
       "      <th>dead</th>\n",
       "      <td>0.021707</td>\n",
       "      <td>0.368178</td>\n",
       "      <td>1.000000</td>\n",
       "      <td>-0.541358</td>\n",
       "      <td>0.044187</td>\n",
       "      <td>-0.042985</td>\n",
       "      <td>-0.111228</td>\n",
       "      <td>-0.107828</td>\n",
       "      <td>-0.142631</td>\n",
       "      <td>-0.035973</td>\n",
       "      <td>-0.246501</td>\n",
       "      <td>0.016753</td>\n",
       "      <td>0.170316</td>\n",
       "      <td>0.061314</td>\n",
       "      <td>0.139394</td>\n",
       "      <td>-0.043160</td>\n",
       "    </tr>\n",
       "    <tr>\n",
       "      <th>years_until_death</th>\n",
       "      <td>-0.208154</td>\n",
       "      <td>-0.092349</td>\n",
       "      <td>-0.541358</td>\n",
       "      <td>1.000000</td>\n",
       "      <td>0.034091</td>\n",
       "      <td>0.041295</td>\n",
       "      <td>0.136588</td>\n",
       "      <td>0.145084</td>\n",
       "      <td>0.039800</td>\n",
       "      <td>0.156253</td>\n",
       "      <td>0.068043</td>\n",
       "      <td>0.018282</td>\n",
       "      <td>-0.046959</td>\n",
       "      <td>0.065584</td>\n",
       "      <td>-0.171735</td>\n",
       "      <td>-0.005512</td>\n",
       "    </tr>\n",
       "    <tr>\n",
       "      <th>Bas</th>\n",
       "      <td>-0.029999</td>\n",
       "      <td>0.070323</td>\n",
       "      <td>0.044187</td>\n",
       "      <td>0.034091</td>\n",
       "      <td>1.000000</td>\n",
       "      <td>0.120295</td>\n",
       "      <td>0.065395</td>\n",
       "      <td>0.247980</td>\n",
       "      <td>-0.011734</td>\n",
       "      <td>0.159791</td>\n",
       "      <td>0.016376</td>\n",
       "      <td>0.101059</td>\n",
       "      <td>0.146996</td>\n",
       "      <td>0.175618</td>\n",
       "      <td>-0.336277</td>\n",
       "      <td>0.054206</td>\n",
       "    </tr>\n",
       "    <tr>\n",
       "      <th>Bmem</th>\n",
       "      <td>0.032109</td>\n",
       "      <td>-0.038432</td>\n",
       "      <td>-0.042985</td>\n",
       "      <td>0.041295</td>\n",
       "      <td>0.120295</td>\n",
       "      <td>1.000000</td>\n",
       "      <td>0.001908</td>\n",
       "      <td>0.302413</td>\n",
       "      <td>-0.030572</td>\n",
       "      <td>0.178701</td>\n",
       "      <td>0.065821</td>\n",
       "      <td>0.017663</td>\n",
       "      <td>-0.057548</td>\n",
       "      <td>0.093607</td>\n",
       "      <td>-0.268230</td>\n",
       "      <td>-0.024123</td>\n",
       "    </tr>\n",
       "    <tr>\n",
       "      <th>Bnv</th>\n",
       "      <td>0.037655</td>\n",
       "      <td>-0.123961</td>\n",
       "      <td>-0.111228</td>\n",
       "      <td>0.136588</td>\n",
       "      <td>0.065395</td>\n",
       "      <td>0.001908</td>\n",
       "      <td>1.000000</td>\n",
       "      <td>0.265796</td>\n",
       "      <td>0.150295</td>\n",
       "      <td>0.096183</td>\n",
       "      <td>0.211536</td>\n",
       "      <td>-0.027656</td>\n",
       "      <td>0.009647</td>\n",
       "      <td>0.022260</td>\n",
       "      <td>-0.498470</td>\n",
       "      <td>0.121626</td>\n",
       "    </tr>\n",
       "    <tr>\n",
       "      <th>CD4mem</th>\n",
       "      <td>-0.025950</td>\n",
       "      <td>0.193372</td>\n",
       "      <td>-0.107828</td>\n",
       "      <td>0.145084</td>\n",
       "      <td>0.247980</td>\n",
       "      <td>0.302413</td>\n",
       "      <td>0.265796</td>\n",
       "      <td>1.000000</td>\n",
       "      <td>0.017347</td>\n",
       "      <td>0.317182</td>\n",
       "      <td>-0.095149</td>\n",
       "      <td>0.049314</td>\n",
       "      <td>0.164254</td>\n",
       "      <td>0.262919</td>\n",
       "      <td>-0.659923</td>\n",
       "      <td>-0.056114</td>\n",
       "    </tr>\n",
       "    <tr>\n",
       "      <th>CD4nv</th>\n",
       "      <td>-0.005130</td>\n",
       "      <td>-0.177211</td>\n",
       "      <td>-0.142631</td>\n",
       "      <td>0.039800</td>\n",
       "      <td>-0.011734</td>\n",
       "      <td>-0.030572</td>\n",
       "      <td>0.150295</td>\n",
       "      <td>0.017347</td>\n",
       "      <td>1.000000</td>\n",
       "      <td>-0.142346</td>\n",
       "      <td>0.279067</td>\n",
       "      <td>-0.001681</td>\n",
       "      <td>-0.108266</td>\n",
       "      <td>-0.030554</td>\n",
       "      <td>-0.446333</td>\n",
       "      <td>-0.055763</td>\n",
       "    </tr>\n",
       "    <tr>\n",
       "      <th>CD8mem</th>\n",
       "      <td>-0.004257</td>\n",
       "      <td>0.074971</td>\n",
       "      <td>-0.035973</td>\n",
       "      <td>0.156253</td>\n",
       "      <td>0.159791</td>\n",
       "      <td>0.178701</td>\n",
       "      <td>0.096183</td>\n",
       "      <td>0.317182</td>\n",
       "      <td>-0.142346</td>\n",
       "      <td>1.000000</td>\n",
       "      <td>-0.120866</td>\n",
       "      <td>-0.011664</td>\n",
       "      <td>0.036776</td>\n",
       "      <td>0.277404</td>\n",
       "      <td>-0.412649</td>\n",
       "      <td>-0.009736</td>\n",
       "    </tr>\n",
       "    <tr>\n",
       "      <th>CD8nv</th>\n",
       "      <td>0.011967</td>\n",
       "      <td>-0.681621</td>\n",
       "      <td>-0.246501</td>\n",
       "      <td>0.068043</td>\n",
       "      <td>0.016376</td>\n",
       "      <td>0.065821</td>\n",
       "      <td>0.211536</td>\n",
       "      <td>-0.095149</td>\n",
       "      <td>0.279067</td>\n",
       "      <td>-0.120866</td>\n",
       "      <td>1.000000</td>\n",
       "      <td>-0.052461</td>\n",
       "      <td>-0.123623</td>\n",
       "      <td>-0.181316</td>\n",
       "      <td>-0.296979</td>\n",
       "      <td>0.066452</td>\n",
       "    </tr>\n",
       "    <tr>\n",
       "      <th>Eos</th>\n",
       "      <td>-0.018448</td>\n",
       "      <td>0.057173</td>\n",
       "      <td>0.016753</td>\n",
       "      <td>0.018282</td>\n",
       "      <td>0.101059</td>\n",
       "      <td>0.017663</td>\n",
       "      <td>-0.027656</td>\n",
       "      <td>0.049314</td>\n",
       "      <td>-0.001681</td>\n",
       "      <td>-0.011664</td>\n",
       "      <td>-0.052461</td>\n",
       "      <td>1.000000</td>\n",
       "      <td>0.077381</td>\n",
       "      <td>-0.019956</td>\n",
       "      <td>-0.209646</td>\n",
       "      <td>0.087233</td>\n",
       "    </tr>\n",
       "    <tr>\n",
       "      <th>Mono</th>\n",
       "      <td>0.041491</td>\n",
       "      <td>0.227632</td>\n",
       "      <td>0.170316</td>\n",
       "      <td>-0.046959</td>\n",
       "      <td>0.146996</td>\n",
       "      <td>-0.057548</td>\n",
       "      <td>0.009647</td>\n",
       "      <td>0.164254</td>\n",
       "      <td>-0.108266</td>\n",
       "      <td>0.036776</td>\n",
       "      <td>-0.123623</td>\n",
       "      <td>0.077381</td>\n",
       "      <td>1.000000</td>\n",
       "      <td>0.233345</td>\n",
       "      <td>-0.326642</td>\n",
       "      <td>0.038464</td>\n",
       "    </tr>\n",
       "    <tr>\n",
       "      <th>NK</th>\n",
       "      <td>-0.073871</td>\n",
       "      <td>0.254280</td>\n",
       "      <td>0.061314</td>\n",
       "      <td>0.065584</td>\n",
       "      <td>0.175618</td>\n",
       "      <td>0.093607</td>\n",
       "      <td>0.022260</td>\n",
       "      <td>0.262919</td>\n",
       "      <td>-0.030554</td>\n",
       "      <td>0.277404</td>\n",
       "      <td>-0.181316</td>\n",
       "      <td>-0.019956</td>\n",
       "      <td>0.233345</td>\n",
       "      <td>1.000000</td>\n",
       "      <td>-0.395482</td>\n",
       "      <td>-0.028781</td>\n",
       "    </tr>\n",
       "    <tr>\n",
       "      <th>Neu</th>\n",
       "      <td>0.010409</td>\n",
       "      <td>0.072809</td>\n",
       "      <td>0.139394</td>\n",
       "      <td>-0.171735</td>\n",
       "      <td>-0.336277</td>\n",
       "      <td>-0.268230</td>\n",
       "      <td>-0.498470</td>\n",
       "      <td>-0.659923</td>\n",
       "      <td>-0.446333</td>\n",
       "      <td>-0.412649</td>\n",
       "      <td>-0.296979</td>\n",
       "      <td>-0.209646</td>\n",
       "      <td>-0.326642</td>\n",
       "      <td>-0.395482</td>\n",
       "      <td>1.000000</td>\n",
       "      <td>-0.072607</td>\n",
       "    </tr>\n",
       "    <tr>\n",
       "      <th>Treg</th>\n",
       "      <td>-0.048369</td>\n",
       "      <td>-0.084063</td>\n",
       "      <td>-0.043160</td>\n",
       "      <td>-0.005512</td>\n",
       "      <td>0.054206</td>\n",
       "      <td>-0.024123</td>\n",
       "      <td>0.121626</td>\n",
       "      <td>-0.056114</td>\n",
       "      <td>-0.055763</td>\n",
       "      <td>-0.009736</td>\n",
       "      <td>0.066452</td>\n",
       "      <td>0.087233</td>\n",
       "      <td>0.038464</td>\n",
       "      <td>-0.028781</td>\n",
       "      <td>-0.072607</td>\n",
       "      <td>1.000000</td>\n",
       "    </tr>\n",
       "  </tbody>\n",
       "</table>\n",
       "</div>"
      ],
      "text/plain": [
       "                      plate  age_at_sample      dead  years_until_death  \\\n",
       "plate              1.000000      -0.026642  0.021707          -0.208154   \n",
       "age_at_sample     -0.026642       1.000000  0.368178          -0.092349   \n",
       "dead               0.021707       0.368178  1.000000          -0.541358   \n",
       "years_until_death -0.208154      -0.092349 -0.541358           1.000000   \n",
       "Bas               -0.029999       0.070323  0.044187           0.034091   \n",
       "Bmem               0.032109      -0.038432 -0.042985           0.041295   \n",
       "Bnv                0.037655      -0.123961 -0.111228           0.136588   \n",
       "CD4mem            -0.025950       0.193372 -0.107828           0.145084   \n",
       "CD4nv             -0.005130      -0.177211 -0.142631           0.039800   \n",
       "CD8mem            -0.004257       0.074971 -0.035973           0.156253   \n",
       "CD8nv              0.011967      -0.681621 -0.246501           0.068043   \n",
       "Eos               -0.018448       0.057173  0.016753           0.018282   \n",
       "Mono               0.041491       0.227632  0.170316          -0.046959   \n",
       "NK                -0.073871       0.254280  0.061314           0.065584   \n",
       "Neu                0.010409       0.072809  0.139394          -0.171735   \n",
       "Treg              -0.048369      -0.084063 -0.043160          -0.005512   \n",
       "\n",
       "                        Bas      Bmem       Bnv    CD4mem     CD4nv    CD8mem  \\\n",
       "plate             -0.029999  0.032109  0.037655 -0.025950 -0.005130 -0.004257   \n",
       "age_at_sample      0.070323 -0.038432 -0.123961  0.193372 -0.177211  0.074971   \n",
       "dead               0.044187 -0.042985 -0.111228 -0.107828 -0.142631 -0.035973   \n",
       "years_until_death  0.034091  0.041295  0.136588  0.145084  0.039800  0.156253   \n",
       "Bas                1.000000  0.120295  0.065395  0.247980 -0.011734  0.159791   \n",
       "Bmem               0.120295  1.000000  0.001908  0.302413 -0.030572  0.178701   \n",
       "Bnv                0.065395  0.001908  1.000000  0.265796  0.150295  0.096183   \n",
       "CD4mem             0.247980  0.302413  0.265796  1.000000  0.017347  0.317182   \n",
       "CD4nv             -0.011734 -0.030572  0.150295  0.017347  1.000000 -0.142346   \n",
       "CD8mem             0.159791  0.178701  0.096183  0.317182 -0.142346  1.000000   \n",
       "CD8nv              0.016376  0.065821  0.211536 -0.095149  0.279067 -0.120866   \n",
       "Eos                0.101059  0.017663 -0.027656  0.049314 -0.001681 -0.011664   \n",
       "Mono               0.146996 -0.057548  0.009647  0.164254 -0.108266  0.036776   \n",
       "NK                 0.175618  0.093607  0.022260  0.262919 -0.030554  0.277404   \n",
       "Neu               -0.336277 -0.268230 -0.498470 -0.659923 -0.446333 -0.412649   \n",
       "Treg               0.054206 -0.024123  0.121626 -0.056114 -0.055763 -0.009736   \n",
       "\n",
       "                      CD8nv       Eos      Mono        NK       Neu      Treg  \n",
       "plate              0.011967 -0.018448  0.041491 -0.073871  0.010409 -0.048369  \n",
       "age_at_sample     -0.681621  0.057173  0.227632  0.254280  0.072809 -0.084063  \n",
       "dead              -0.246501  0.016753  0.170316  0.061314  0.139394 -0.043160  \n",
       "years_until_death  0.068043  0.018282 -0.046959  0.065584 -0.171735 -0.005512  \n",
       "Bas                0.016376  0.101059  0.146996  0.175618 -0.336277  0.054206  \n",
       "Bmem               0.065821  0.017663 -0.057548  0.093607 -0.268230 -0.024123  \n",
       "Bnv                0.211536 -0.027656  0.009647  0.022260 -0.498470  0.121626  \n",
       "CD4mem            -0.095149  0.049314  0.164254  0.262919 -0.659923 -0.056114  \n",
       "CD4nv              0.279067 -0.001681 -0.108266 -0.030554 -0.446333 -0.055763  \n",
       "CD8mem            -0.120866 -0.011664  0.036776  0.277404 -0.412649 -0.009736  \n",
       "CD8nv              1.000000 -0.052461 -0.123623 -0.181316 -0.296979  0.066452  \n",
       "Eos               -0.052461  1.000000  0.077381 -0.019956 -0.209646  0.087233  \n",
       "Mono              -0.123623  0.077381  1.000000  0.233345 -0.326642  0.038464  \n",
       "NK                -0.181316 -0.019956  0.233345  1.000000 -0.395482 -0.028781  \n",
       "Neu               -0.296979 -0.209646 -0.326642 -0.395482  1.000000 -0.072607  \n",
       "Treg               0.066452  0.087233  0.038464 -0.028781 -0.072607  1.000000  "
      ]
     },
     "execution_count": 406,
     "metadata": {},
     "output_type": "execute_result"
    }
   ],
   "source": [
    "pl=meta.join(pred.T).drop(['sex','race'],axis=1)\n",
    "pl.corr()"
   ]
  },
  {
   "cell_type": "code",
   "execution_count": 419,
   "id": "153a45fa-4c76-4494-b597-3d195857f157",
   "metadata": {},
   "outputs": [
    {
     "data": {
      "image/png": "[encoded data removed]",
      "text/plain": [
       "<Figure size 640x480 with 1 Axes>"
      ]
     },
     "metadata": {},
     "output_type": "display_data"
    }
   ],
   "source": [
    "ax=sns.scatterplot(data=pl,x='age_at_sample',y='CD8nv')\n",
    "#ax.set(yscale=\"log\",ylim=[0.0001,1])"
   ]
  },
  {
   "cell_type": "code",
   "execution_count": 357,
   "id": "511e1621-a507-4cc9-9f2d-c479572d7c09",
   "metadata": {},
   "outputs": [],
   "source": [
    "#art mix\n",
    "t = pd.read_table(data_path+'comp/GSE180683_Matrix_processed.txt',index_col=0,nrows=10**2,usecols=[0]+list(range(1,152,2)))"
   ]
  },
  {
   "cell_type": "code",
   "execution_count": 372,
   "id": "1ab1af07-8624-4ce3-a12f-1d0850a629b4",
   "metadata": {},
   "outputs": [],
   "source": [
    "t_meta=pd.read_table('https://ftp.ncbi.nlm.nih.gov/geo/series/GSE180nnn/GSE180683/matrix/GSE180683_series_matrix.txt.gz',skiprows=39,index_col=0)"
   ]
  },
  {
   "cell_type": "code",
   "execution_count": 360,
   "id": "06d7d419-2e69-4198-80a2-bdedf1a78d13",
   "metadata": {},
   "outputs": [],
   "source": [
    "art2=art.copy()"
   ]
  },
  {
   "cell_type": "code",
   "execution_count": 361,
   "id": "dcc6b083-c6b1-45c8-a6b2-878fdf20d960",
   "metadata": {},
   "outputs": [],
   "source": [
    "art2.dnam=t"
   ]
  }
 ],
 "metadata": {
  "kernelspec": {
   "display_name": "p311",
   "language": "python",
   "name": "p311"
  },
  "language_info": {
   "codemirror_mode": {
    "name": "ipython",
    "version": 3
   },
   "file_extension": ".py",
   "mimetype": "text/x-python",
   "name": "python",
   "nbconvert_exporter": "python",
   "pygments_lexer": "ipython3",
   "version": "3.11.8"
  }
 },
 "nbformat": 4,
 "nbformat_minor": 5
}

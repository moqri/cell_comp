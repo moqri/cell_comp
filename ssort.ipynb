{
 "cells": [
  {
   "cell_type": "code",
   "execution_count": 187,
   "id": "edffcec5-b16c-4ba4-9874-674a2a29521c",
   "metadata": {},
   "outputs": [],
   "source": [
    "import pandas as pd\n",
    "from biolearn.data_library import DataLibrary\n",
    "from biolearn.model_gallery import ModelGallery\n",
    "import seaborn as sns\n",
    "import matplotlib.pyplot as plt\n",
    "gallery = ModelGallery()\n",
    "data_path='/data/gladyshev/mm1286/data/'\n",
    "\n",
    "types={'cd4t':'cd4',\n",
    "       'cd4nv':'cd4n',\n",
    "       'CD4n':'cd4n',\n",
    "       'cd8t':'cd8',\n",
    "       'cd8nv':'cd8n',\n",
    "       'Tn':'cd8n',\n",
    "       'bcell':'b',\n",
    "       'monocytes':'mono',\n",
    "       'neutrophils':'neu',\n",
    "       'granulocytes':'gran'\n",
    "      }"
   ]
  },
  {
   "cell_type": "code",
   "execution_count": 105,
   "id": "e329d230-5e4f-46d0-ae17-af9e9ac570f6",
   "metadata": {},
   "outputs": [],
   "source": [
    "man=pd.read_csv(data_path+'/aging-genes/man_e1.csv',index_col=0,usecols=['IlmnID','g','ch','pos','dis','gene'])"
   ]
  },
  {
   "cell_type": "code",
   "execution_count": 106,
   "id": "7fb62fb7-2af1-4a01-b832-0b1e59a98325",
   "metadata": {},
   "outputs": [],
   "source": [
    "wb = DataLibrary().get(\"GSE112618\").load()\n",
    "wb_meta=wb.metadata\n",
    "wb_meta=wb_meta[[c for c in wb_meta.columns if '_proportion' in c]].astype(float)\n",
    "wb_meta.columns=[c.rstrip('_proportion') for c in wb_meta.columns]\n",
    "wb_meta=wb_meta.T\n",
    "dnam_wb=wb.dnam\n",
    "wb_meta=wb_meta.rename(index=types)    "
   ]
  },
  {
   "cell_type": "code",
   "execution_count": 107,
   "id": "8736398e-78ba-4f8a-988f-772f5f4a6cb5",
   "metadata": {},
   "outputs": [
    {
     "name": "stdout",
     "output_type": "stream",
     "text": [
      "CPU times: user 5.44 s, sys: 935 ms, total: 6.38 s\n",
      "Wall time: 14.1 s\n"
     ]
    }
   ],
   "source": [
    "%%time\n",
    "mat1=data_path+'ref/cell_comp/GSE110554_series_matrix.txt'\n",
    "meta1=pd.read_table(mat1,nrows=10**2,skiprows=38,index_col=0)\n",
    "meta1['GSM2998097']=meta1['GSM2998097'].shift(-1)\n",
    "meta1['GSM2998106']=meta1['GSM2998106'].shift(-1)\n",
    "meta1=meta1.iloc[14:20]\n",
    "meta1.index=meta1.iloc[:,0].str.split(': ').str[0]\n",
    "for c in meta1.columns:\n",
    "    meta1[c]=meta1[c].str.split(': ').str[1].astype(int)/100\n",
    "meta1=meta1.rename(index=types)    \n",
    "dnam1=pd.read_table(mat1,nrows=10**6,skiprows=38+59,index_col=0)\n",
    "dnam1=dnam1.drop('!series_matrix_table_end')"
   ]
  },
  {
   "cell_type": "code",
   "execution_count": 108,
   "id": "74e15ffd-d1e9-4264-b44d-450b2fc32d6b",
   "metadata": {},
   "outputs": [
    {
     "name": "stdout",
     "output_type": "stream",
     "text": [
      "CPU times: user 14.1 s, sys: 1.43 s, total: 15.5 s\n",
      "Wall time: 18.8 s\n"
     ]
    }
   ],
   "source": [
    "%%time\n",
    "mat2=data_path+'ref/cell_comp/GSE167998_matrix_processed.txt'\n",
    "dnam2=pd.read_table(mat2,nrows=10**6,index_col=0,skiprows=0,usecols=[0]+list(range(1,136,2)))"
   ]
  },
  {
   "cell_type": "code",
   "execution_count": 109,
   "id": "c78bfc15-76d1-4c8f-90cf-dbf46be26cbf",
   "metadata": {},
   "outputs": [],
   "source": [
    "meta2_='https://ftp.ncbi.nlm.nih.gov/geo/series/GSE167nnn/GSE167998/matrix/GSE167998_series_matrix.txt.gz'\n",
    "meta2=pd.read_table(meta2_,skiprows=38,index_col=0,nrows=1,header=None).T\n",
    "meta2['!Sample_title']=meta2['!Sample_title'].str[:4]\n",
    "meta2.index=dnam2.columns\n",
    "meta2=meta2.squeeze()\n",
    "meta_m2=meta2[meta2=='mem ']\n",
    "meta2=meta2[meta2!='mem ']\n",
    "meta2.loc[meta2.str[:2]=='Bn']='Bn'\n",
    "meta2.loc[meta2.str[:2]=='Tn']='Tn'\n",
    "meta2.loc[meta2.str[:2]=='NK']='NK'\n",
    "meta2.loc[(meta2.str[:2]=='WB')|(meta2=='PCA0')|(meta2=='Neut')]='Neu'"
   ]
  },
  {
   "cell_type": "code",
   "execution_count": 110,
   "id": "be181818-5436-4d0d-bb30-61c744850bbd",
   "metadata": {},
   "outputs": [
    {
     "name": "stdout",
     "output_type": "stream",
     "text": [
      "CPU times: user 119 ms, sys: 2.72 ms, total: 121 ms\n",
      "Wall time: 388 ms\n"
     ]
    }
   ],
   "source": [
    "%%time\n",
    "meta_mix2=pd.read_table(meta2_,skiprows=39,index_col=0,nrows=50).iloc[34:47]\n",
    "meta_mix2.columns=dnam2.columns\n",
    "meta_mix2=meta_mix2[meta_m2.index]\n",
    "meta_mix2.index=meta_mix2.iloc[:,0].str.split(': ').str[0]\n",
    "for c in meta_mix2.columns:\n",
    "    meta_mix2[c]=meta_mix2[c].str.split(': ').str[1].astype(float)\n",
    "meta_mix2=meta_mix2.rename(index=types)        "
   ]
  },
  {
   "cell_type": "code",
   "execution_count": 111,
   "id": "65430b95-e6be-43a9-9b9d-ce0b02f7e4e1",
   "metadata": {},
   "outputs": [],
   "source": [
    "umb_meta=pd.read_table(data_path+'ref/cell_comp/GSE180970_series_matrix.txt',skiprows=38,index_col=0,nrows=40).iloc[7:13]\n",
    "umb_meta.index=umb_meta.iloc[:,0].str.split(': ').str[0]\n",
    "umb_meta=umb_meta.rename(index=types)\n",
    "for c in umb_meta.columns:\n",
    "    umb_meta[c]=umb_meta[c].str.split(': ').str[1].astype(float)/100\n",
    "umb=pd.read_table(data_path+'ref/cell_comp/GSE180970_series_matrix.txt',skiprows=37+40,index_col=0)        "
   ]
  },
  {
   "cell_type": "code",
   "execution_count": 215,
   "id": "0d06cac5-8897-4557-bb45-3507ba443a50",
   "metadata": {},
   "outputs": [
    {
     "data": {
      "text/plain": [
       "(14, 79)"
      ]
     },
     "execution_count": 215,
     "metadata": {},
     "output_type": "execute_result"
    }
   ],
   "source": [
    "meta=pd.concat([wb_meta,meta1,meta_mix2,umb_meta],axis=1)\n",
    "meta.loc[len(meta)] = pd.Series(dtype='float64')\n",
    "meta.index=list(meta.index[:-1])+['cd8n']\n",
    "meta.shape"
   ]
  },
  {
   "cell_type": "code",
   "execution_count": 216,
   "id": "10ee7fac-f7ec-4fb6-a08b-bf25dc3376c4",
   "metadata": {},
   "outputs": [],
   "source": [
    "meta2=meta2.replace(types)"
   ]
  },
  {
   "cell_type": "code",
   "execution_count": 217,
   "id": "b12948c7-71be-42b4-a213-d9cec341927d",
   "metadata": {},
   "outputs": [],
   "source": [
    "for c in meta2.index:\n",
    "    if meta2.loc[c] in ['cd4n','cd8n']:\n",
    "        tmp=pd.Series([1],index=[meta2.loc[c]]).rename(c)\n",
    "        meta=meta.join(tmp)"
   ]
  },
  {
   "cell_type": "code",
   "execution_count": 220,
   "id": "c669e9ed-854d-4b2a-902b-7b13d207ba5a",
   "metadata": {},
   "outputs": [
    {
     "data": {
      "text/plain": [
       "(5,)"
      ]
     },
     "execution_count": 220,
     "metadata": {},
     "output_type": "execute_result"
    }
   ],
   "source": [
    "cd4n=meta.loc['cd8n'].dropna()\n",
    "cd4n.shape"
   ]
  },
  {
   "cell_type": "code",
   "execution_count": 221,
   "id": "50544dd7-1fdc-4872-8588-c11615ffaaac",
   "metadata": {},
   "outputs": [
    {
     "data": {
      "text/plain": [
       "203027390100_R06C01    1.0\n",
       "203027390094_R05C01    1.0\n",
       "203027390092_R03C01    1.0\n",
       "203027390051_R01C01    1.0\n",
       "203013220070_R01C01    1.0\n",
       "Name: cd8n, dtype: float64"
      ]
     },
     "execution_count": 221,
     "metadata": {},
     "output_type": "execute_result"
    }
   ],
   "source": [
    "cd4n"
   ]
  },
  {
   "cell_type": "code",
   "execution_count": 158,
   "id": "fe365735-ff33-48d6-9acd-9302a90b8ebf",
   "metadata": {},
   "outputs": [
    {
     "name": "stderr",
     "output_type": "stream",
     "text": [
      "/PHShome/mm1286/anaconda3/envs/p311/lib/python3.11/site-packages/scipy/stats/_stats_py.py:5445: ConstantInputWarning: An input array is constant; the correlation coefficient is not defined.\n",
      "  warnings.warn(stats.ConstantInputWarning(warn_msg))\n"
     ]
    },
    {
     "name": "stdout",
     "output_type": "stream",
     "text": [
      "CPU times: user 6min 5s, sys: 3.01 s, total: 6min 8s\n",
      "Wall time: 6min 9s\n"
     ]
    }
   ],
   "source": [
    "%%time\n",
    "cd4n_cor=dnam[cd4n.index].T.corrwith(cd4n,method='spearman')"
   ]
  },
  {
   "cell_type": "code",
   "execution_count": 173,
   "id": "1cb8e40c-c947-4ac9-942f-418c6b6b5976",
   "metadata": {},
   "outputs": [
    {
     "data": {
      "text/plain": [
       "cg11612786    0.958042\n",
       "cg07941916    0.965035\n",
       "cg06360218    0.965035\n",
       "cg25252598    0.965035\n",
       "cg24861399    0.965035\n",
       "cg03054890    0.965035\n",
       "cg19399817    0.972028\n",
       "cg18503234    0.972028\n",
       "cg25004855    0.979021\n",
       "cg17565444    0.986014\n",
       "dtype: float64"
      ]
     },
     "execution_count": 173,
     "metadata": {},
     "output_type": "execute_result"
    }
   ],
   "source": [
    "cd4n_cor.sort_values().dropna().tail(10)"
   ]
  },
  {
   "cell_type": "code",
   "execution_count": 181,
   "id": "53b9f22b-0f2d-4d6f-9640-48481499e65e",
   "metadata": {},
   "outputs": [
    {
     "data": {
      "text/plain": [
       "<Axes: xlabel='cd4n', ylabel='cg17565444'>"
      ]
     },
     "execution_count": 181,
     "metadata": {},
     "output_type": "execute_result"
    },
    {
     "data": {
      "image/png": "[encoded data removed]",
      "text/plain": [
       "<Figure size 640x480 with 1 Axes>"
      ]
     },
     "metadata": {},
     "output_type": "display_data"
    }
   ],
   "source": [
    "sns.scatterplot(data=dnam.T,y='cg17565444',x=cd4n)"
   ]
  },
  {
   "cell_type": "code",
   "execution_count": 182,
   "id": "94530d4f-3c05-407c-89f2-578f6a2f00bc",
   "metadata": {},
   "outputs": [
    {
     "data": {
      "text/plain": [
       "Index(['cg26643754', 'cg26657539', 'cg26870126', 'cg27141489', 'cg27179352',\n",
       "       'cg27194210', 'cg27379210', 'cg27509373', 'cg27598632', 'cg27634880'],\n",
       "      dtype='object')"
      ]
     },
     "execution_count": 182,
     "metadata": {},
     "output_type": "execute_result"
    }
   ],
   "source": [
    "cd4n_cor.sort_values().tail(10).index"
   ]
  },
  {
   "cell_type": "code",
   "execution_count": null,
   "id": "5ac25460-766e-4287-8280-9308aa30b064",
   "metadata": {},
   "outputs": [],
   "source": []
  },
  {
   "cell_type": "code",
   "execution_count": 30,
   "id": "2c68881d-1b95-4275-b116-2bcbaf0702ff",
   "metadata": {},
   "outputs": [
    {
     "data": {
      "text/plain": [
       "(866091, 135)"
      ]
     },
     "execution_count": 30,
     "metadata": {},
     "output_type": "execute_result"
    }
   ],
   "source": [
    "dnam=pd.concat([dnam_wb,dnam1,dnam2,umb],axis=1).drop('!series_matrix_table_end')\n",
    "dnam.shape"
   ]
  },
  {
   "cell_type": "code",
   "execution_count": 931,
   "id": "c9dd0984-9800-4ec1-b343-6fad4d91e6de",
   "metadata": {},
   "outputs": [
    {
     "data": {
      "text/plain": [
       "(866092, 42)"
      ]
     },
     "execution_count": 931,
     "metadata": {},
     "output_type": "execute_result"
    }
   ],
   "source": [
    "t=pd.concat([wb,mix,dnam[meta_mix2.columns],umb],axis=1)\n",
    "t.shape"
   ]
  },
  {
   "cell_type": "code",
   "execution_count": 932,
   "id": "e6f99512-b055-48ef-be2c-e6eaf460a3e2",
   "metadata": {},
   "outputs": [
    {
     "data": {
      "text/plain": [
       "(42, 1)"
      ]
     },
     "execution_count": 932,
     "metadata": {},
     "output_type": "execute_result"
    }
   ],
   "source": [
    "tp=pd.DataFrame(pd.concat([cells['cd4'],meta_mix.loc['CD4'],meta_mix2.loc['cd4'],umb_meta['cd4']]))\n",
    "tp.shape"
   ]
  },
  {
   "cell_type": "code",
   "execution_count": 934,
   "id": "ce856753-c046-4832-8404-cfc0166fe7f2",
   "metadata": {},
   "outputs": [],
   "source": [
    "tp['type']=6*[0]+12*[1]+12*[2]+12*[3]"
   ]
  },
  {
   "cell_type": "code",
   "execution_count": 935,
   "id": "cd21f7bc-9a9e-4ed9-b4ab-407a7f5190b2",
   "metadata": {},
   "outputs": [
    {
     "data": {
      "text/plain": [
       "(42, 866094)"
      ]
     },
     "execution_count": 935,
     "metadata": {},
     "output_type": "execute_result"
    }
   ],
   "source": [
    "tt=t.T.join(tp)\n",
    "tt.shape"
   ]
  },
  {
   "cell_type": "code",
   "execution_count": null,
   "id": "501c45e1-dead-43ea-8f57-a7fe6aee3c1c",
   "metadata": {},
   "outputs": [
    {
     "name": "stderr",
     "output_type": "stream",
     "text": [
      "/PHShome/mm1286/anaconda3/envs/p311/lib/python3.11/site-packages/numpy/lib/function_base.py:2897: RuntimeWarning: invalid value encountered in divide\n",
      "  c /= stddev[:, None]\n",
      "/PHShome/mm1286/anaconda3/envs/p311/lib/python3.11/site-packages/numpy/lib/function_base.py:2898: RuntimeWarning: invalid value encountered in divide\n",
      "  c /= stddev[None, :]\n"
     ]
    }
   ],
   "source": [
    "%%time\n",
    "cors=[]\n",
    "for i in range(0,4):\n",
    "    cors.append(tt[tt['type']==i].corrwith(tt[0]))"
   ]
  },
  {
   "cell_type": "code",
   "execution_count": 937,
   "id": "77231802-e58b-4bf7-8f99-18fb90c66de2",
   "metadata": {},
   "outputs": [],
   "source": [
    "cors_df=pd.concat(cors,axis=1)"
   ]
  },
  {
   "cell_type": "code",
   "execution_count": 940,
   "id": "0a88c57b-a5d1-403c-8d88-84ad4ee9b9e9",
   "metadata": {},
   "outputs": [
    {
     "data": {
      "text/plain": [
       "0    0.847771\n",
       "1    0.275954\n",
       "2    0.799267\n",
       "3   -0.315275\n",
       "m    0.401929\n",
       "Name: cg15619756, dtype: float64"
      ]
     },
     "execution_count": 940,
     "metadata": {},
     "output_type": "execute_result"
    }
   ],
   "source": [
    "cors_df.loc['cg15619756']"
   ]
  },
  {
   "cell_type": "code",
   "execution_count": 939,
   "id": "f48eadda-ecff-4013-9125-172f6919fcda",
   "metadata": {},
   "outputs": [
    {
     "data": {
      "text/html": [
       "<div>\n",
       "<style scoped>\n",
       "    .dataframe tbody tr th:only-of-type {\n",
       "        vertical-align: middle;\n",
       "    }\n",
       "\n",
       "    .dataframe tbody tr th {\n",
       "        vertical-align: top;\n",
       "    }\n",
       "\n",
       "    .dataframe thead th {\n",
       "        text-align: right;\n",
       "    }\n",
       "</style>\n",
       "<table border=\"1\" class=\"dataframe\">\n",
       "  <thead>\n",
       "    <tr style=\"text-align: right;\">\n",
       "      <th></th>\n",
       "      <th>0</th>\n",
       "      <th>1</th>\n",
       "      <th>2</th>\n",
       "      <th>3</th>\n",
       "      <th>m</th>\n",
       "      <th>ch</th>\n",
       "      <th>pos</th>\n",
       "      <th>g</th>\n",
       "      <th>dis</th>\n",
       "      <th>gene</th>\n",
       "    </tr>\n",
       "  </thead>\n",
       "  <tbody>\n",
       "    <tr>\n",
       "      <th>cg01210399</th>\n",
       "      <td>-0.976250</td>\n",
       "      <td>-0.884398</td>\n",
       "      <td>-0.899680</td>\n",
       "      <td>-0.810632</td>\n",
       "      <td>-0.892740</td>\n",
       "      <td>1</td>\n",
       "      <td>84635169</td>\n",
       "      <td>1084635169</td>\n",
       "      <td>-55120</td>\n",
       "      <td>SSX2IP</td>\n",
       "    </tr>\n",
       "    <tr>\n",
       "      <th>cg06376547</th>\n",
       "      <td>-0.968339</td>\n",
       "      <td>-0.889072</td>\n",
       "      <td>-0.847990</td>\n",
       "      <td>-0.788148</td>\n",
       "      <td>-0.873388</td>\n",
       "      <td>15</td>\n",
       "      <td>63390221</td>\n",
       "      <td>15063390221</td>\n",
       "      <td>8375</td>\n",
       "      <td>CA12</td>\n",
       "    </tr>\n",
       "    <tr>\n",
       "      <th>cg12464177</th>\n",
       "      <td>-0.894650</td>\n",
       "      <td>-0.864440</td>\n",
       "      <td>-0.952018</td>\n",
       "      <td>-0.780181</td>\n",
       "      <td>-0.872822</td>\n",
       "      <td>17</td>\n",
       "      <td>35708249</td>\n",
       "      <td>17035708249</td>\n",
       "      <td>-23390</td>\n",
       "      <td>RASL10B</td>\n",
       "    </tr>\n",
       "    <tr>\n",
       "      <th>cg22033073</th>\n",
       "      <td>-0.943321</td>\n",
       "      <td>-0.878632</td>\n",
       "      <td>-0.877921</td>\n",
       "      <td>-0.788574</td>\n",
       "      <td>-0.872112</td>\n",
       "      <td>16</td>\n",
       "      <td>21596896</td>\n",
       "      <td>16021596896</td>\n",
       "      <td>-326</td>\n",
       "      <td>METTL9</td>\n",
       "    </tr>\n",
       "    <tr>\n",
       "      <th>cg11778706</th>\n",
       "      <td>-0.822270</td>\n",
       "      <td>-0.919614</td>\n",
       "      <td>-0.875602</td>\n",
       "      <td>-0.826279</td>\n",
       "      <td>-0.860941</td>\n",
       "      <td>8</td>\n",
       "      <td>22646038</td>\n",
       "      <td>8022646038</td>\n",
       "      <td>1234</td>\n",
       "      <td>BIN3</td>\n",
       "    </tr>\n",
       "    <tr>\n",
       "      <th>cg07901251</th>\n",
       "      <td>-0.967677</td>\n",
       "      <td>-0.787699</td>\n",
       "      <td>-0.839049</td>\n",
       "      <td>-0.813749</td>\n",
       "      <td>-0.852043</td>\n",
       "      <td>14</td>\n",
       "      <td>23033832</td>\n",
       "      <td>14023033832</td>\n",
       "      <td>-895</td>\n",
       "      <td>PSMB5</td>\n",
       "    </tr>\n",
       "    <tr>\n",
       "      <th>cg23075732</th>\n",
       "      <td>-0.908812</td>\n",
       "      <td>-0.841910</td>\n",
       "      <td>-0.848658</td>\n",
       "      <td>-0.791898</td>\n",
       "      <td>-0.847819</td>\n",
       "      <td>2</td>\n",
       "      <td>157784609</td>\n",
       "      <td>2157784609</td>\n",
       "      <td>-22387</td>\n",
       "      <td>ACVR1</td>\n",
       "    </tr>\n",
       "    <tr>\n",
       "      <th>cg00219233</th>\n",
       "      <td>-0.870346</td>\n",
       "      <td>-0.777369</td>\n",
       "      <td>-0.923582</td>\n",
       "      <td>-0.812658</td>\n",
       "      <td>-0.845989</td>\n",
       "      <td>7</td>\n",
       "      <td>44449284</td>\n",
       "      <td>7044449284</td>\n",
       "      <td>-41374</td>\n",
       "      <td>NUDCD3</td>\n",
       "    </tr>\n",
       "    <tr>\n",
       "      <th>cg17518643</th>\n",
       "      <td>-0.895220</td>\n",
       "      <td>-0.879406</td>\n",
       "      <td>-0.702811</td>\n",
       "      <td>-0.847613</td>\n",
       "      <td>-0.831263</td>\n",
       "      <td>13</td>\n",
       "      <td>99317018</td>\n",
       "      <td>13099317018</td>\n",
       "      <td>9619</td>\n",
       "      <td>GPR183</td>\n",
       "    </tr>\n",
       "    <tr>\n",
       "      <th>cg03754418</th>\n",
       "      <td>-0.990782</td>\n",
       "      <td>-0.622853</td>\n",
       "      <td>-0.897257</td>\n",
       "      <td>-0.804582</td>\n",
       "      <td>-0.828869</td>\n",
       "      <td>2</td>\n",
       "      <td>203732157</td>\n",
       "      <td>2203732157</td>\n",
       "      <td>25518</td>\n",
       "      <td>CD28</td>\n",
       "    </tr>\n",
       "    <tr>\n",
       "      <th>cg05044173</th>\n",
       "      <td>-0.899288</td>\n",
       "      <td>-0.846517</td>\n",
       "      <td>-0.785032</td>\n",
       "      <td>-0.780823</td>\n",
       "      <td>-0.827915</td>\n",
       "      <td>12</td>\n",
       "      <td>6789333</td>\n",
       "      <td>12006789333</td>\n",
       "      <td>-195</td>\n",
       "      <td>CD4</td>\n",
       "    </tr>\n",
       "    <tr>\n",
       "      <th>cg18845566</th>\n",
       "      <td>-0.930088</td>\n",
       "      <td>-0.718182</td>\n",
       "      <td>-0.831547</td>\n",
       "      <td>-0.829065</td>\n",
       "      <td>-0.827220</td>\n",
       "      <td>1</td>\n",
       "      <td>248481612</td>\n",
       "      <td>1248481612</td>\n",
       "      <td>-6977</td>\n",
       "      <td>OR2T5</td>\n",
       "    </tr>\n",
       "    <tr>\n",
       "      <th>cg19829001</th>\n",
       "      <td>-0.881771</td>\n",
       "      <td>-0.690683</td>\n",
       "      <td>-0.815452</td>\n",
       "      <td>-0.920220</td>\n",
       "      <td>-0.827032</td>\n",
       "      <td>17</td>\n",
       "      <td>76643995</td>\n",
       "      <td>17076643995</td>\n",
       "      <td>209</td>\n",
       "      <td>ST6GALNAC1</td>\n",
       "    </tr>\n",
       "    <tr>\n",
       "      <th>cg24247883</th>\n",
       "      <td>-0.905381</td>\n",
       "      <td>-0.786599</td>\n",
       "      <td>-0.827099</td>\n",
       "      <td>-0.784520</td>\n",
       "      <td>-0.825900</td>\n",
       "      <td>9</td>\n",
       "      <td>94415221</td>\n",
       "      <td>9094415221</td>\n",
       "      <td>40652</td>\n",
       "      <td>MFSD14B</td>\n",
       "    </tr>\n",
       "    <tr>\n",
       "      <th>cg00614901</th>\n",
       "      <td>-0.820280</td>\n",
       "      <td>-0.852454</td>\n",
       "      <td>-0.847308</td>\n",
       "      <td>-0.778584</td>\n",
       "      <td>-0.824656</td>\n",
       "      <td>9</td>\n",
       "      <td>96972882</td>\n",
       "      <td>9096972882</td>\n",
       "      <td>44039</td>\n",
       "      <td>NUTM2G</td>\n",
       "    </tr>\n",
       "    <tr>\n",
       "      <th>cg05969889</th>\n",
       "      <td>-0.906959</td>\n",
       "      <td>-0.726866</td>\n",
       "      <td>-0.902116</td>\n",
       "      <td>-0.760155</td>\n",
       "      <td>-0.824024</td>\n",
       "      <td>6</td>\n",
       "      <td>143097565</td>\n",
       "      <td>6143097565</td>\n",
       "      <td>-28685</td>\n",
       "      <td>AIG1</td>\n",
       "    </tr>\n",
       "    <tr>\n",
       "      <th>cg21004896</th>\n",
       "      <td>-0.817943</td>\n",
       "      <td>-0.839931</td>\n",
       "      <td>-0.856422</td>\n",
       "      <td>-0.780246</td>\n",
       "      <td>-0.823635</td>\n",
       "      <td>1</td>\n",
       "      <td>197995026</td>\n",
       "      <td>1197995026</td>\n",
       "      <td>77654</td>\n",
       "      <td>LHX9</td>\n",
       "    </tr>\n",
       "    <tr>\n",
       "      <th>cg01925992</th>\n",
       "      <td>-0.780167</td>\n",
       "      <td>-0.729524</td>\n",
       "      <td>-0.929168</td>\n",
       "      <td>-0.849766</td>\n",
       "      <td>-0.822156</td>\n",
       "      <td>3</td>\n",
       "      <td>4908931</td>\n",
       "      <td>3004908931</td>\n",
       "      <td>-70506</td>\n",
       "      <td>BHLHE40</td>\n",
       "    </tr>\n",
       "    <tr>\n",
       "      <th>cg04625250</th>\n",
       "      <td>-0.950766</td>\n",
       "      <td>-0.827198</td>\n",
       "      <td>-0.732360</td>\n",
       "      <td>-0.772769</td>\n",
       "      <td>-0.820773</td>\n",
       "      <td>12</td>\n",
       "      <td>6932579</td>\n",
       "      <td>12006932579</td>\n",
       "      <td>4620</td>\n",
       "      <td>ATN1</td>\n",
       "    </tr>\n",
       "    <tr>\n",
       "      <th>cg09999348</th>\n",
       "      <td>-0.857482</td>\n",
       "      <td>-0.689515</td>\n",
       "      <td>-0.936297</td>\n",
       "      <td>-0.792247</td>\n",
       "      <td>-0.818885</td>\n",
       "      <td>2</td>\n",
       "      <td>46171708</td>\n",
       "      <td>2046171708</td>\n",
       "      <td>-124900</td>\n",
       "      <td>EPAS1</td>\n",
       "    </tr>\n",
       "    <tr>\n",
       "      <th>cg11465943</th>\n",
       "      <td>-0.942168</td>\n",
       "      <td>-0.507848</td>\n",
       "      <td>-0.944373</td>\n",
       "      <td>-0.876931</td>\n",
       "      <td>-0.817830</td>\n",
       "      <td>11</td>\n",
       "      <td>61065905</td>\n",
       "      <td>11061065905</td>\n",
       "      <td>-36584</td>\n",
       "      <td>CD5</td>\n",
       "    </tr>\n",
       "    <tr>\n",
       "      <th>cg03855955</th>\n",
       "      <td>-0.937231</td>\n",
       "      <td>-0.840359</td>\n",
       "      <td>-0.793355</td>\n",
       "      <td>-0.696232</td>\n",
       "      <td>-0.816794</td>\n",
       "      <td>12</td>\n",
       "      <td>6791184</td>\n",
       "      <td>12006791184</td>\n",
       "      <td>1616</td>\n",
       "      <td>CD4</td>\n",
       "    </tr>\n",
       "    <tr>\n",
       "      <th>cg13238744</th>\n",
       "      <td>-0.829530</td>\n",
       "      <td>-0.834982</td>\n",
       "      <td>-0.926030</td>\n",
       "      <td>-0.661143</td>\n",
       "      <td>-0.812921</td>\n",
       "      <td>2</td>\n",
       "      <td>203714327</td>\n",
       "      <td>2203714327</td>\n",
       "      <td>7688</td>\n",
       "      <td>CD28</td>\n",
       "    </tr>\n",
       "    <tr>\n",
       "      <th>cg26378038</th>\n",
       "      <td>-0.945639</td>\n",
       "      <td>-0.798933</td>\n",
       "      <td>-0.600512</td>\n",
       "      <td>-0.900812</td>\n",
       "      <td>-0.811474</td>\n",
       "      <td>4</td>\n",
       "      <td>22445054</td>\n",
       "      <td>4022445054</td>\n",
       "      <td>1919</td>\n",
       "      <td>ADGRA3</td>\n",
       "    </tr>\n",
       "    <tr>\n",
       "      <th>cg05290737</th>\n",
       "      <td>-0.918131</td>\n",
       "      <td>-0.707069</td>\n",
       "      <td>-0.937634</td>\n",
       "      <td>-0.682677</td>\n",
       "      <td>-0.811378</td>\n",
       "      <td>12</td>\n",
       "      <td>122730603</td>\n",
       "      <td>12122730603</td>\n",
       "      <td>-241</td>\n",
       "      <td>HCAR1</td>\n",
       "    </tr>\n",
       "    <tr>\n",
       "      <th>cg14588003</th>\n",
       "      <td>-0.937730</td>\n",
       "      <td>-0.845310</td>\n",
       "      <td>-0.902979</td>\n",
       "      <td>-0.542604</td>\n",
       "      <td>-0.807156</td>\n",
       "      <td>15</td>\n",
       "      <td>92818658</td>\n",
       "      <td>15092818658</td>\n",
       "      <td>8860</td>\n",
       "      <td>FAM174B</td>\n",
       "    </tr>\n",
       "    <tr>\n",
       "      <th>cg16520260</th>\n",
       "      <td>-0.855694</td>\n",
       "      <td>-0.770328</td>\n",
       "      <td>-0.925722</td>\n",
       "      <td>-0.674301</td>\n",
       "      <td>-0.806511</td>\n",
       "      <td>11</td>\n",
       "      <td>47477311</td>\n",
       "      <td>11047477311</td>\n",
       "      <td>-11703</td>\n",
       "      <td>CELF1</td>\n",
       "    </tr>\n",
       "    <tr>\n",
       "      <th>cg20988373</th>\n",
       "      <td>-0.844296</td>\n",
       "      <td>-0.689007</td>\n",
       "      <td>-0.818540</td>\n",
       "      <td>-0.873574</td>\n",
       "      <td>-0.806354</td>\n",
       "      <td>14</td>\n",
       "      <td>23033777</td>\n",
       "      <td>14023033777</td>\n",
       "      <td>-950</td>\n",
       "      <td>PSMB5</td>\n",
       "    </tr>\n",
       "    <tr>\n",
       "      <th>cg21274670</th>\n",
       "      <td>-0.874027</td>\n",
       "      <td>-0.590110</td>\n",
       "      <td>-0.897100</td>\n",
       "      <td>-0.863981</td>\n",
       "      <td>-0.806304</td>\n",
       "      <td>5</td>\n",
       "      <td>56202405</td>\n",
       "      <td>5056202405</td>\n",
       "      <td>-30521</td>\n",
       "      <td>ANKRD55</td>\n",
       "    </tr>\n",
       "    <tr>\n",
       "      <th>cg22324641</th>\n",
       "      <td>-0.883078</td>\n",
       "      <td>-0.727394</td>\n",
       "      <td>-0.810465</td>\n",
       "      <td>-0.803089</td>\n",
       "      <td>-0.806006</td>\n",
       "      <td>1</td>\n",
       "      <td>155014393</td>\n",
       "      <td>1155014393</td>\n",
       "      <td>-55</td>\n",
       "      <td>ZBTB7B</td>\n",
       "    </tr>\n",
       "    <tr>\n",
       "      <th>cg06151381</th>\n",
       "      <td>-0.959222</td>\n",
       "      <td>-0.764909</td>\n",
       "      <td>-0.875715</td>\n",
       "      <td>-0.618327</td>\n",
       "      <td>-0.804543</td>\n",
       "      <td>1</td>\n",
       "      <td>248566492</td>\n",
       "      <td>1248566492</td>\n",
       "      <td>3720</td>\n",
       "      <td>OR2T29</td>\n",
       "    </tr>\n",
       "    <tr>\n",
       "      <th>cg09177577</th>\n",
       "      <td>-0.898270</td>\n",
       "      <td>-0.936430</td>\n",
       "      <td>-0.802124</td>\n",
       "      <td>-0.577842</td>\n",
       "      <td>-0.803666</td>\n",
       "      <td>8</td>\n",
       "      <td>22646063</td>\n",
       "      <td>8022646063</td>\n",
       "      <td>1259</td>\n",
       "      <td>BIN3</td>\n",
       "    </tr>\n",
       "    <tr>\n",
       "      <th>cg03834768</th>\n",
       "      <td>-0.953591</td>\n",
       "      <td>-0.798318</td>\n",
       "      <td>-0.678583</td>\n",
       "      <td>-0.775731</td>\n",
       "      <td>-0.801556</td>\n",
       "      <td>20</td>\n",
       "      <td>56504587</td>\n",
       "      <td>20056504587</td>\n",
       "      <td>-20157</td>\n",
       "      <td>FAM209A</td>\n",
       "    </tr>\n",
       "    <tr>\n",
       "      <th>cg10717869</th>\n",
       "      <td>-0.750983</td>\n",
       "      <td>-0.793824</td>\n",
       "      <td>-0.894102</td>\n",
       "      <td>-0.764318</td>\n",
       "      <td>-0.800807</td>\n",
       "      <td>1</td>\n",
       "      <td>205811783</td>\n",
       "      <td>1205811783</td>\n",
       "      <td>-1415</td>\n",
       "      <td>SLC41A1</td>\n",
       "    </tr>\n",
       "    <tr>\n",
       "      <th>cg01853238</th>\n",
       "      <td>-0.928849</td>\n",
       "      <td>-0.604174</td>\n",
       "      <td>-0.764873</td>\n",
       "      <td>-0.903509</td>\n",
       "      <td>-0.800351</td>\n",
       "      <td>2</td>\n",
       "      <td>101751267</td>\n",
       "      <td>2101751267</td>\n",
       "      <td>52737</td>\n",
       "      <td>MAP4K4</td>\n",
       "    </tr>\n",
       "    <tr>\n",
       "      <th>cg09209347</th>\n",
       "      <td>-0.914001</td>\n",
       "      <td>-0.805192</td>\n",
       "      <td>-0.934469</td>\n",
       "      <td>-0.547535</td>\n",
       "      <td>-0.800299</td>\n",
       "      <td>16</td>\n",
       "      <td>71826680</td>\n",
       "      <td>16071826680</td>\n",
       "      <td>17479</td>\n",
       "      <td>AP1G1</td>\n",
       "    </tr>\n",
       "    <tr>\n",
       "      <th>cg07570898</th>\n",
       "      <td>-0.725506</td>\n",
       "      <td>-0.783990</td>\n",
       "      <td>-0.923832</td>\n",
       "      <td>-0.761112</td>\n",
       "      <td>-0.798610</td>\n",
       "      <td>1</td>\n",
       "      <td>116738210</td>\n",
       "      <td>1116738210</td>\n",
       "      <td>-16220</td>\n",
       "      <td>CD2</td>\n",
       "    </tr>\n",
       "    <tr>\n",
       "      <th>cg07133479</th>\n",
       "      <td>-0.927233</td>\n",
       "      <td>-0.751659</td>\n",
       "      <td>-0.935520</td>\n",
       "      <td>-0.577922</td>\n",
       "      <td>-0.798083</td>\n",
       "      <td>2</td>\n",
       "      <td>86193476</td>\n",
       "      <td>2086193476</td>\n",
       "      <td>-1526</td>\n",
       "      <td>IMMT</td>\n",
       "    </tr>\n",
       "    <tr>\n",
       "      <th>cg05558046</th>\n",
       "      <td>-0.846796</td>\n",
       "      <td>-0.728827</td>\n",
       "      <td>-0.945549</td>\n",
       "      <td>-0.666831</td>\n",
       "      <td>-0.797001</td>\n",
       "      <td>17</td>\n",
       "      <td>10026783</td>\n",
       "      <td>17010026783</td>\n",
       "      <td>498</td>\n",
       "      <td>GAS7</td>\n",
       "    </tr>\n",
       "    <tr>\n",
       "      <th>cg21410980</th>\n",
       "      <td>-0.932939</td>\n",
       "      <td>-0.570230</td>\n",
       "      <td>-0.812032</td>\n",
       "      <td>-0.869509</td>\n",
       "      <td>-0.796178</td>\n",
       "      <td>4</td>\n",
       "      <td>40120210</td>\n",
       "      <td>4040120210</td>\n",
       "      <td>17303</td>\n",
       "      <td>N4BP2</td>\n",
       "    </tr>\n",
       "    <tr>\n",
       "      <th>cg01782486</th>\n",
       "      <td>-0.879708</td>\n",
       "      <td>-0.656879</td>\n",
       "      <td>-0.859278</td>\n",
       "      <td>-0.781697</td>\n",
       "      <td>-0.794391</td>\n",
       "      <td>1</td>\n",
       "      <td>155014035</td>\n",
       "      <td>1155014035</td>\n",
       "      <td>-413</td>\n",
       "      <td>ZBTB7B</td>\n",
       "    </tr>\n",
       "    <tr>\n",
       "      <th>cg12885679</th>\n",
       "      <td>-0.900541</td>\n",
       "      <td>-0.793371</td>\n",
       "      <td>-0.945808</td>\n",
       "      <td>-0.537677</td>\n",
       "      <td>-0.794349</td>\n",
       "      <td>17</td>\n",
       "      <td>17180437</td>\n",
       "      <td>17017180437</td>\n",
       "      <td>879</td>\n",
       "      <td>MPRIP</td>\n",
       "    </tr>\n",
       "    <tr>\n",
       "      <th>cg05126284</th>\n",
       "      <td>-0.875317</td>\n",
       "      <td>-0.790130</td>\n",
       "      <td>-0.830526</td>\n",
       "      <td>-0.664242</td>\n",
       "      <td>-0.790054</td>\n",
       "      <td>6</td>\n",
       "      <td>112016594</td>\n",
       "      <td>6112016594</td>\n",
       "      <td>-37481</td>\n",
       "      <td>CCN6</td>\n",
       "    </tr>\n",
       "    <tr>\n",
       "      <th>cg02576719</th>\n",
       "      <td>-0.947176</td>\n",
       "      <td>-0.771793</td>\n",
       "      <td>-0.884186</td>\n",
       "      <td>-0.553863</td>\n",
       "      <td>-0.789255</td>\n",
       "      <td>1</td>\n",
       "      <td>234408924</td>\n",
       "      <td>1234408924</td>\n",
       "      <td>35223</td>\n",
       "      <td>COA6</td>\n",
       "    </tr>\n",
       "    <tr>\n",
       "      <th>cg11147389</th>\n",
       "      <td>-0.948119</td>\n",
       "      <td>-0.653392</td>\n",
       "      <td>-0.816735</td>\n",
       "      <td>-0.732497</td>\n",
       "      <td>-0.787686</td>\n",
       "      <td>8</td>\n",
       "      <td>99705917</td>\n",
       "      <td>8099705917</td>\n",
       "      <td>185018</td>\n",
       "      <td>VPS13B</td>\n",
       "    </tr>\n",
       "    <tr>\n",
       "      <th>cg17864015</th>\n",
       "      <td>-0.889578</td>\n",
       "      <td>-0.766994</td>\n",
       "      <td>-0.878682</td>\n",
       "      <td>-0.603472</td>\n",
       "      <td>-0.784682</td>\n",
       "      <td>11</td>\n",
       "      <td>128341308</td>\n",
       "      <td>11128341308</td>\n",
       "      <td>-164086</td>\n",
       "      <td>ETS1</td>\n",
       "    </tr>\n",
       "    <tr>\n",
       "      <th>cg24022528</th>\n",
       "      <td>-0.798891</td>\n",
       "      <td>-0.819795</td>\n",
       "      <td>-0.611935</td>\n",
       "      <td>-0.900573</td>\n",
       "      <td>-0.782799</td>\n",
       "      <td>7</td>\n",
       "      <td>140693374</td>\n",
       "      <td>7140693374</td>\n",
       "      <td>2597</td>\n",
       "      <td>NDUFB2</td>\n",
       "    </tr>\n",
       "    <tr>\n",
       "      <th>cg02669193</th>\n",
       "      <td>-0.880909</td>\n",
       "      <td>-0.791339</td>\n",
       "      <td>-0.574845</td>\n",
       "      <td>-0.878106</td>\n",
       "      <td>-0.781300</td>\n",
       "      <td>6</td>\n",
       "      <td>166759768</td>\n",
       "      <td>6166759768</td>\n",
       "      <td>1857</td>\n",
       "      <td>RPS6KA2</td>\n",
       "    </tr>\n",
       "    <tr>\n",
       "      <th>cg17433934</th>\n",
       "      <td>-0.901128</td>\n",
       "      <td>-0.486292</td>\n",
       "      <td>-0.950606</td>\n",
       "      <td>-0.779448</td>\n",
       "      <td>-0.779368</td>\n",
       "      <td>2</td>\n",
       "      <td>106125167</td>\n",
       "      <td>2106125167</td>\n",
       "      <td>-13619</td>\n",
       "      <td>UXS1</td>\n",
       "    </tr>\n",
       "    <tr>\n",
       "      <th>cg05931551</th>\n",
       "      <td>-0.970410</td>\n",
       "      <td>-0.681037</td>\n",
       "      <td>-0.788751</td>\n",
       "      <td>-0.673568</td>\n",
       "      <td>-0.778441</td>\n",
       "      <td>1</td>\n",
       "      <td>52426537</td>\n",
       "      <td>1052426537</td>\n",
       "      <td>-4544</td>\n",
       "      <td>TUT4</td>\n",
       "    </tr>\n",
       "  </tbody>\n",
       "</table>\n",
       "</div>"
      ],
      "text/plain": [
       "                   0         1         2         3         m  ch        pos  \\\n",
       "cg01210399 -0.976250 -0.884398 -0.899680 -0.810632 -0.892740   1   84635169   \n",
       "cg06376547 -0.968339 -0.889072 -0.847990 -0.788148 -0.873388  15   63390221   \n",
       "cg12464177 -0.894650 -0.864440 -0.952018 -0.780181 -0.872822  17   35708249   \n",
       "cg22033073 -0.943321 -0.878632 -0.877921 -0.788574 -0.872112  16   21596896   \n",
       "cg11778706 -0.822270 -0.919614 -0.875602 -0.826279 -0.860941   8   22646038   \n",
       "cg07901251 -0.967677 -0.787699 -0.839049 -0.813749 -0.852043  14   23033832   \n",
       "cg23075732 -0.908812 -0.841910 -0.848658 -0.791898 -0.847819   2  157784609   \n",
       "cg00219233 -0.870346 -0.777369 -0.923582 -0.812658 -0.845989   7   44449284   \n",
       "cg17518643 -0.895220 -0.879406 -0.702811 -0.847613 -0.831263  13   99317018   \n",
       "cg03754418 -0.990782 -0.622853 -0.897257 -0.804582 -0.828869   2  203732157   \n",
       "cg05044173 -0.899288 -0.846517 -0.785032 -0.780823 -0.827915  12    6789333   \n",
       "cg18845566 -0.930088 -0.718182 -0.831547 -0.829065 -0.827220   1  248481612   \n",
       "cg19829001 -0.881771 -0.690683 -0.815452 -0.920220 -0.827032  17   76643995   \n",
       "cg24247883 -0.905381 -0.786599 -0.827099 -0.784520 -0.825900   9   94415221   \n",
       "cg00614901 -0.820280 -0.852454 -0.847308 -0.778584 -0.824656   9   96972882   \n",
       "cg05969889 -0.906959 -0.726866 -0.902116 -0.760155 -0.824024   6  143097565   \n",
       "cg21004896 -0.817943 -0.839931 -0.856422 -0.780246 -0.823635   1  197995026   \n",
       "cg01925992 -0.780167 -0.729524 -0.929168 -0.849766 -0.822156   3    4908931   \n",
       "cg04625250 -0.950766 -0.827198 -0.732360 -0.772769 -0.820773  12    6932579   \n",
       "cg09999348 -0.857482 -0.689515 -0.936297 -0.792247 -0.818885   2   46171708   \n",
       "cg11465943 -0.942168 -0.507848 -0.944373 -0.876931 -0.817830  11   61065905   \n",
       "cg03855955 -0.937231 -0.840359 -0.793355 -0.696232 -0.816794  12    6791184   \n",
       "cg13238744 -0.829530 -0.834982 -0.926030 -0.661143 -0.812921   2  203714327   \n",
       "cg26378038 -0.945639 -0.798933 -0.600512 -0.900812 -0.811474   4   22445054   \n",
       "cg05290737 -0.918131 -0.707069 -0.937634 -0.682677 -0.811378  12  122730603   \n",
       "cg14588003 -0.937730 -0.845310 -0.902979 -0.542604 -0.807156  15   92818658   \n",
       "cg16520260 -0.855694 -0.770328 -0.925722 -0.674301 -0.806511  11   47477311   \n",
       "cg20988373 -0.844296 -0.689007 -0.818540 -0.873574 -0.806354  14   23033777   \n",
       "cg21274670 -0.874027 -0.590110 -0.897100 -0.863981 -0.806304   5   56202405   \n",
       "cg22324641 -0.883078 -0.727394 -0.810465 -0.803089 -0.806006   1  155014393   \n",
       "cg06151381 -0.959222 -0.764909 -0.875715 -0.618327 -0.804543   1  248566492   \n",
       "cg09177577 -0.898270 -0.936430 -0.802124 -0.577842 -0.803666   8   22646063   \n",
       "cg03834768 -0.953591 -0.798318 -0.678583 -0.775731 -0.801556  20   56504587   \n",
       "cg10717869 -0.750983 -0.793824 -0.894102 -0.764318 -0.800807   1  205811783   \n",
       "cg01853238 -0.928849 -0.604174 -0.764873 -0.903509 -0.800351   2  101751267   \n",
       "cg09209347 -0.914001 -0.805192 -0.934469 -0.547535 -0.800299  16   71826680   \n",
       "cg07570898 -0.725506 -0.783990 -0.923832 -0.761112 -0.798610   1  116738210   \n",
       "cg07133479 -0.927233 -0.751659 -0.935520 -0.577922 -0.798083   2   86193476   \n",
       "cg05558046 -0.846796 -0.728827 -0.945549 -0.666831 -0.797001  17   10026783   \n",
       "cg21410980 -0.932939 -0.570230 -0.812032 -0.869509 -0.796178   4   40120210   \n",
       "cg01782486 -0.879708 -0.656879 -0.859278 -0.781697 -0.794391   1  155014035   \n",
       "cg12885679 -0.900541 -0.793371 -0.945808 -0.537677 -0.794349  17   17180437   \n",
       "cg05126284 -0.875317 -0.790130 -0.830526 -0.664242 -0.790054   6  112016594   \n",
       "cg02576719 -0.947176 -0.771793 -0.884186 -0.553863 -0.789255   1  234408924   \n",
       "cg11147389 -0.948119 -0.653392 -0.816735 -0.732497 -0.787686   8   99705917   \n",
       "cg17864015 -0.889578 -0.766994 -0.878682 -0.603472 -0.784682  11  128341308   \n",
       "cg24022528 -0.798891 -0.819795 -0.611935 -0.900573 -0.782799   7  140693374   \n",
       "cg02669193 -0.880909 -0.791339 -0.574845 -0.878106 -0.781300   6  166759768   \n",
       "cg17433934 -0.901128 -0.486292 -0.950606 -0.779448 -0.779368   2  106125167   \n",
       "cg05931551 -0.970410 -0.681037 -0.788751 -0.673568 -0.778441   1   52426537   \n",
       "\n",
       "                      g     dis        gene  \n",
       "cg01210399   1084635169  -55120      SSX2IP  \n",
       "cg06376547  15063390221    8375        CA12  \n",
       "cg12464177  17035708249  -23390     RASL10B  \n",
       "cg22033073  16021596896    -326      METTL9  \n",
       "cg11778706   8022646038    1234        BIN3  \n",
       "cg07901251  14023033832    -895       PSMB5  \n",
       "cg23075732   2157784609  -22387       ACVR1  \n",
       "cg00219233   7044449284  -41374      NUDCD3  \n",
       "cg17518643  13099317018    9619      GPR183  \n",
       "cg03754418   2203732157   25518        CD28  \n",
       "cg05044173  12006789333    -195         CD4  \n",
       "cg18845566   1248481612   -6977       OR2T5  \n",
       "cg19829001  17076643995     209  ST6GALNAC1  \n",
       "cg24247883   9094415221   40652     MFSD14B  \n",
       "cg00614901   9096972882   44039      NUTM2G  \n",
       "cg05969889   6143097565  -28685        AIG1  \n",
       "cg21004896   1197995026   77654        LHX9  \n",
       "cg01925992   3004908931  -70506     BHLHE40  \n",
       "cg04625250  12006932579    4620        ATN1  \n",
       "cg09999348   2046171708 -124900       EPAS1  \n",
       "cg11465943  11061065905  -36584         CD5  \n",
       "cg03855955  12006791184    1616         CD4  \n",
       "cg13238744   2203714327    7688        CD28  \n",
       "cg26378038   4022445054    1919      ADGRA3  \n",
       "cg05290737  12122730603    -241       HCAR1  \n",
       "cg14588003  15092818658    8860     FAM174B  \n",
       "cg16520260  11047477311  -11703       CELF1  \n",
       "cg20988373  14023033777    -950       PSMB5  \n",
       "cg21274670   5056202405  -30521     ANKRD55  \n",
       "cg22324641   1155014393     -55      ZBTB7B  \n",
       "cg06151381   1248566492    3720      OR2T29  \n",
       "cg09177577   8022646063    1259        BIN3  \n",
       "cg03834768  20056504587  -20157     FAM209A  \n",
       "cg10717869   1205811783   -1415     SLC41A1  \n",
       "cg01853238   2101751267   52737      MAP4K4  \n",
       "cg09209347  16071826680   17479       AP1G1  \n",
       "cg07570898   1116738210  -16220         CD2  \n",
       "cg07133479   2086193476   -1526        IMMT  \n",
       "cg05558046  17010026783     498        GAS7  \n",
       "cg21410980   4040120210   17303       N4BP2  \n",
       "cg01782486   1155014035    -413      ZBTB7B  \n",
       "cg12885679  17017180437     879       MPRIP  \n",
       "cg05126284   6112016594  -37481        CCN6  \n",
       "cg02576719   1234408924   35223        COA6  \n",
       "cg11147389   8099705917  185018      VPS13B  \n",
       "cg17864015  11128341308 -164086        ETS1  \n",
       "cg24022528   7140693374    2597      NDUFB2  \n",
       "cg02669193   6166759768    1857     RPS6KA2  \n",
       "cg17433934   2106125167  -13619        UXS1  \n",
       "cg05931551   1052426537   -4544        TUT4  "
      ]
     },
     "execution_count": 939,
     "metadata": {},
     "output_type": "execute_result"
    }
   ],
   "source": [
    "cors_df['m']=cors_df.mean(1)\n",
    "cors_df.sort_values('m').head(50).join(man)"
   ]
  },
  {
   "cell_type": "code",
   "execution_count": null,
   "id": "3cbe7ac7-bc7c-4309-a07f-8624c7e17dbc",
   "metadata": {},
   "outputs": [
    {
     "ename": "NameError",
     "evalue": "name 't' is not defined",
     "output_type": "error",
     "traceback": [
      "\u001b[0;31m---------------------------------------------------------------------------\u001b[0m",
      "\u001b[0;31mNameError\u001b[0m                                 Traceback (most recent call last)",
      "Cell \u001b[0;32mIn[167], line 1\u001b[0m\n\u001b[0;32m----> 1\u001b[0m t\u001b[38;5;241m.\u001b[39mloc[[\u001b[38;5;124m'\u001b[39m\u001b[38;5;124mcg23788058\u001b[39m\u001b[38;5;124m'\u001b[39m]]\u001b[38;5;241m.\u001b[39mT\u001b[38;5;241m.\u001b[39mcorrwith(tp[\u001b[38;5;241m0\u001b[39m])\n",
      "\u001b[0;31mNameError\u001b[0m: name 't' is not defined"
     ]
    }
   ],
   "source": [
    "t.loc[['cg03855955']].T.corrwith(tp[0])"
   ]
  },
  {
   "cell_type": "code",
   "execution_count": 852,
   "id": "03350fd0-6f3a-46d3-805b-02cb72f1ea9e",
   "metadata": {},
   "outputs": [
    {
     "data": {
      "text/plain": [
       "<Axes: xlabel='0', ylabel='cg03855955'>"
      ]
     },
     "execution_count": 852,
     "metadata": {},
     "output_type": "execute_result"
    },
    {
     "data": {
      "image/png": "[encoded data removed]",
      "text/plain": [
       "<Figure size 640x480 with 1 Axes>"
      ]
     },
     "metadata": {},
     "output_type": "display_data"
    }
   ],
   "source": [
    "sns.scatterplot(x=tp[0],y=t.loc['cg03855955'],hue=tp['type'])"
   ]
  },
  {
   "cell_type": "code",
   "execution_count": 928,
   "id": "921c8f31-d772-419d-8054-856fd70c676c",
   "metadata": {},
   "outputs": [
    {
     "name": "stderr",
     "output_type": "stream",
     "text": [
      "/PHShome/mm1286/anaconda3/envs/p311/lib/python3.11/site-packages/numpy/lib/function_base.py:2897: RuntimeWarning: invalid value encountered in divide\n",
      "  c /= stddev[:, None]\n",
      "/PHShome/mm1286/anaconda3/envs/p311/lib/python3.11/site-packages/numpy/lib/function_base.py:2898: RuntimeWarning: invalid value encountered in divide\n",
      "  c /= stddev[None, :]\n"
     ]
    },
    {
     "name": "stdout",
     "output_type": "stream",
     "text": [
      "CPU times: user 4min 20s, sys: 2.1 s, total: 4min 22s\n",
      "Wall time: 10min 4s\n"
     ]
    }
   ],
   "source": [
    "%%time\n",
    "cd4n=t[meta_mix2.columns].T.corrwith(meta_mix2.loc['cd4n'])"
   ]
  },
  {
   "cell_type": "code",
   "execution_count": 929,
   "id": "180326be-3084-4ee3-ac06-014850512bc5",
   "metadata": {},
   "outputs": [
    {
     "data": {
      "text/plain": [
       "cg07650392                 -0.975633\n",
       "cg22595657                 -0.968410\n",
       "cg12518834                 -0.959513\n",
       "cg07729711                 -0.959509\n",
       "cg15165643                 -0.955367\n",
       "                              ...   \n",
       "cg27379210                       NaN\n",
       "cg27509373                       NaN\n",
       "cg27598632                       NaN\n",
       "cg27634880                       NaN\n",
       "!series_matrix_table_end         NaN\n",
       "Length: 866092, dtype: float64"
      ]
     },
     "execution_count": 929,
     "metadata": {},
     "output_type": "execute_result"
    }
   ],
   "source": [
    "cd4n.sort_values()"
   ]
  },
  {
   "cell_type": "code",
   "execution_count": null,
   "id": "305b3630-5244-488f-8e84-45d65def5ce6",
   "metadata": {},
   "outputs": [],
   "source": []
  },
  {
   "cell_type": "code",
   "execution_count": 107,
   "id": "c05201ed-5b7b-4ee3-aff4-8170fb5ab272",
   "metadata": {},
   "outputs": [
    {
     "data": {
      "text/plain": [
       "Text(0.5, 1.0, 'Deconvolution Validation - FACS')"
      ]
     },
     "execution_count": 107,
     "metadata": {},
     "output_type": "execute_result"
    },
    {
     "data": {
      "image/png": "[encoded data removed]",
      "text/plain": [
       "<Figure size 640x480 with 1 Axes>"
      ]
     },
     "metadata": {},
     "output_type": "display_data"
    }
   ],
   "source": [
    "for cell in types:\n",
    "    pl=pd.concat([cells[cell], pred[cell]],axis=1)\n",
    "    pl.columns=['cell','pred']\n",
    "    sns.scatterplot(data=pl,x='cell',y='pred')\n",
    "plt.xlabel(\"Known cell proportion\")\n",
    "plt.ylabel(\"Predicted cell proportion\")\n",
    "plt.title(\"Deconvolution Validation - FACS\")"
   ]
  }
 ],
 "metadata": {
  "kernelspec": {
   "display_name": "p311",
   "language": "python",
   "name": "p311"
  },
  "language_info": {
   "codemirror_mode": {
    "name": "ipython",
    "version": 3
   },
   "file_extension": ".py",
   "mimetype": "text/x-python",
   "name": "python",
   "nbconvert_exporter": "python",
   "pygments_lexer": "ipython3",
   "version": "3.11.8"
  }
 },
 "nbformat": 4,
 "nbformat_minor": 5
}

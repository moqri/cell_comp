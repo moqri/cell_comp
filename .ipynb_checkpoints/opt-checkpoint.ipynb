{
 "cells": [
  {
   "cell_type": "code",
   "execution_count": null,
   "id": "7718efcd-e295-474c-89f0-1f950808be66",
   "metadata": {},
   "outputs": [],
   "source": [
    "#pip install biolearn -U"
   ]
  },
  {
   "cell_type": "code",
   "execution_count": 214,
   "id": "8c6cf352-48f1-40ce-bd25-64035b56e28a",
   "metadata": {},
   "outputs": [],
   "source": [
    "import pandas as pd\n",
    "from biolearn.data_library import DataLibrary\n",
    "from biolearn.model_gallery import ModelGallery\n",
    "gallery = ModelGallery()\n",
    "from biolearn.model import DeconvolutionModel\n",
    "import numpy as np\n",
    "from scipy import stats\n",
    "import time\n",
    "import seaborn as sns\n",
    "import matplotlib.pyplot as plt\n",
    "data_path='/data/gladyshev/mm1286/data/'\n",
    "\n",
    "dic={'cd4nv':'CD4nv',\n",
    "     'cd4mem':'CD4mem',\n",
    "     'treg':'Treg',\n",
    "     'cd8nv':'CD8nv',\n",
    "     'cd8mem':'CD8mem',\n",
    "     'bnv':'Bnv',\n",
    "     'bmem':'Bmem',\n",
    "     'nk':'NK',\n",
    "     'mono':'Mono',\n",
    "     'neu':'Neu',\n",
    "     'eos':'Eos',\n",
    "     'bas':'Bas',\n",
    "     'Baso':'Bas', \n",
    "     'Bn': 'Bnv',\n",
    "     'CD4m':'CD4mem',\n",
    "     'CD4n':'CD4nv',\n",
    "     'EOS2':'Eos',\n",
    "     'Tem0':'CD8mem',\n",
    "     'Tn':'CD8nv',\n",
    "    }"
   ]
  },
  {
   "cell_type": "code",
   "execution_count": 212,
   "id": "533efda7-6bcb-42ec-a0f9-cb36d2dc66fc",
   "metadata": {},
   "outputs": [
    {
     "data": {
      "text/plain": [
       "Index(['Baso', 'Bmem', 'Bn', 'CD4m', 'CD4n', 'EOS2', 'Mono', 'NK', 'Neu',\n",
       "       'Tem0', 'Tn', 'Treg'],\n",
       "      dtype='object', name='cell')"
      ]
     },
     "execution_count": 212,
     "metadata": {},
     "output_type": "execute_result"
    }
   ],
   "source": [
    "pred.index"
   ]
  },
  {
   "cell_type": "code",
   "execution_count": 13,
   "id": "f5305011-8869-4e26-8306-cb9cf0340a32",
   "metadata": {},
   "outputs": [],
   "source": [
    "data_source = DataLibrary().get(\"GSE167998\")\n",
    "#data=data_source.load()"
   ]
  },
  {
   "cell_type": "code",
   "execution_count": 16,
   "id": "99c7dfb2-8a5b-4ab0-b416-6c8ed54fed26",
   "metadata": {},
   "outputs": [
    {
     "name": "stdout",
     "output_type": "stream",
     "text": [
      "CPU times: user 14.1 s, sys: 1.45 s, total: 15.6 s\n",
      "Wall time: 18.4 s\n"
     ]
    }
   ],
   "source": [
    "%%time\n",
    "mat2=data_path+'ref/cell_comp/GSE167998_matrix_processed.txt'\n",
    "dnam2=pd.read_table(mat2,nrows=10**6,index_col=0,skiprows=0,usecols=[0]+list(range(1,136,2)))"
   ]
  },
  {
   "cell_type": "code",
   "execution_count": 17,
   "id": "dffedf0d-bf7f-46ef-997c-54cb98bb57cf",
   "metadata": {},
   "outputs": [],
   "source": [
    "meta2_='https://ftp.ncbi.nlm.nih.gov/geo/series/GSE167nnn/GSE167998/matrix/GSE167998_series_matrix.txt.gz'\n",
    "meta2=pd.read_table(meta2_,skiprows=38,index_col=0,nrows=1,header=None).T\n",
    "meta2['!Sample_title']=meta2['!Sample_title'].str[:4]\n",
    "meta2.index=dnam2.columns\n",
    "meta2=meta2.squeeze()\n",
    "meta_m2=meta2[meta2=='mem ']\n",
    "meta2=meta2[meta2!='mem ']\n",
    "meta2.loc[meta2.str[:2]=='Bn']='Bn'\n",
    "meta2.loc[meta2.str[:2]=='Tn']='Tn'\n",
    "meta2.loc[meta2.str[:2]=='NK']='NK'\n",
    "meta2.loc[(meta2.str[:2]=='WB')|(meta2=='PCA0')|(meta2=='Neut')]='Neu'"
   ]
  },
  {
   "cell_type": "code",
   "execution_count": 71,
   "id": "19ca6d88-9252-4e6e-b5b6-a0c31745f1db",
   "metadata": {},
   "outputs": [],
   "source": [
    "dt=dnam2.T.join(meta2.rename('cell'),how='inner')"
   ]
  },
  {
   "cell_type": "code",
   "execution_count": null,
   "id": "4b5c349f-73ab-4d59-9200-f7877c338f3c",
   "metadata": {},
   "outputs": [],
   "source": [
    "ref=dt.groupby('cell').mean().T\n",
    "ref=ref.rename(columns=dic)\n",
    "dec = gallery.get(\"DeconvoluteBloodEPIC\")"
   ]
  },
  {
   "cell_type": "code",
   "execution_count": 102,
   "id": "aa037e7e-9141-4be3-af8d-0427849b0f48",
   "metadata": {},
   "outputs": [
    {
     "name": "stderr",
     "output_type": "stream",
     "text": [
      "/PHShome/mm1286/anaconda3/envs/p311/lib/python3.11/site-packages/scipy/stats/_axis_nan_policy.py:523: RuntimeWarning: Precision loss occurred in moment calculation due to catastrophic cancellation. This occurs when the data are nearly identical. Results may be unreliable.\n",
      "  res = hypotest_fun_out(*samples, **kwds)\n"
     ]
    },
    {
     "name": "stdout",
     "output_type": "stream",
     "text": [
      "CD4n   8.982047208150227\n",
      "CD4m   8.77230623960495\n",
      "Baso   8.84684333006541\n",
      "Bmem   8.889416639010111\n",
      "Bn   8.911995347340902\n",
      "Treg   8.759779206911723\n",
      "Tem0   9.304218431313833\n",
      "Tn   9.138099106152852\n",
      "EOS2   8.873500005404155\n",
      "NK   8.921764202912648\n",
      "Neu   8.783438766002655\n",
      "Mono   8.932723498344421\n",
      "CPU times: user 1h 45min 59s, sys: 1min 3s, total: 1h 47min 3s\n",
      "Wall time: 1h 47min 6s\n"
     ]
    }
   ],
   "source": [
    "%%time\n",
    "ps={}\n",
    "for cell in list(dt['cell'].unique()):\n",
    "    t0=time.time()\n",
    "    ps[cell]=[]\n",
    "    rvs1=dt[dt['cell']==cell]\n",
    "    rvs2=dt[dt['cell']!=cell]\n",
    "    for cg in dt.columns[:-1]:\n",
    "        ps[cell].append(stats.ttest_ind(rvs1[cg], rvs2[cg]).pvalue)\n",
    "    print(cell, ' ',(time.time()-t0)/60)        "
   ]
  },
  {
   "cell_type": "code",
   "execution_count": 220,
   "id": "c18f7b48-e10f-4dc6-b12a-37eda060defc",
   "metadata": {},
   "outputs": [
    {
     "name": "stdout",
     "output_type": "stream",
     "text": [
      "CPU times: user 13.3 s, sys: 487 ms, total: 13.8 s\n",
      "Wall time: 17.3 s\n"
     ]
    }
   ],
   "source": [
    "%%time\n",
    "df=pd.DataFrame(ps,index=dt.columns[:-1])\n",
    "df=df.rename(columns=dic)\n",
    "df.to_csv(data_path+'comp/ps.csv')"
   ]
  },
  {
   "cell_type": "code",
   "execution_count": 524,
   "id": "f9be855e-f2b0-4c5d-af98-5b9f8456d292",
   "metadata": {},
   "outputs": [],
   "source": [
    "cgs=[]\n",
    "n=100\n",
    "for c in df.columns:\n",
    "    cgs.append(pd.Series(df[c].sort_values().head(n).index,index=n*[c]))\n",
    "cgs=pd.concat(cgs)"
   ]
  },
  {
   "cell_type": "code",
   "execution_count": 525,
   "id": "083dc752-f055-49b3-a786-86fe501f0bdf",
   "metadata": {},
   "outputs": [
    {
     "name": "stdout",
     "output_type": "stream",
     "text": [
      "               0\n",
      "cell            \n",
      "CD4nv   0.850172\n",
      "CD8mem  0.957509\n",
      "Bmem    0.960788\n",
      "CD8nv   0.965501\n",
      "Treg    0.974939\n",
      "Bas     0.978576\n",
      "CD4mem  0.983463\n",
      "Mono    0.986295\n",
      "Eos     0.988954\n",
      "Neu     0.989127\n",
      "Bnv     0.991449\n",
      "NK      0.997869\n"
     ]
    }
   ],
   "source": [
    "    dec.reference=ref.loc[cgs]\n",
    "    art = DataLibrary().get(\"GSE182379\").load()\n",
    "    art.metadata=art.metadata.rename(columns=dic)\n",
    "    pred = dec.predict(art)\n",
    "    cors=[]\n",
    "    for c in pred.index:\n",
    "        cors.append(art.metadata[[c]].corrwith(pred.loc[c]).values[0])\n",
    "    cors=pd.DataFrame(cors,index=pred.index).sort_values(0)\n",
    "    print(cors)"
   ]
  },
  {
   "cell_type": "code",
   "execution_count": 535,
   "id": "d3cb1423-7808-4472-a88f-858873a0a904",
   "metadata": {},
   "outputs": [
    {
     "data": {
      "text/plain": [
       "NK    0.997869\n",
       "dtype: float64"
      ]
     },
     "execution_count": 535,
     "metadata": {},
     "output_type": "execute_result"
    }
   ],
   "source": [
    "art.metadata[[c]].corrwith(pred.loc[c])"
   ]
  },
  {
   "cell_type": "code",
   "execution_count": 555,
   "id": "438c7f40-4c64-4a0d-8300-c9420cfcb217",
   "metadata": {},
   "outputs": [
    {
     "data": {
      "text/plain": [
       "<Axes: xlabel='Bnv', ylabel='1'>"
      ]
     },
     "execution_count": 555,
     "metadata": {},
     "output_type": "execute_result"
    },
    {
     "data": {
      "image/png": "[encoded data removed]",
      "text/plain": [
       "<Figure size 640x480 with 1 Axes>"
      ]
     },
     "metadata": {},
     "output_type": "display_data"
    }
   ],
   "source": [
    "c='Bnv'\n",
    "sns.scatterplot(data=art.metadata[[c]].join(pred.loc[c].rename(1)).astype(float),x=c,y=1)"
   ]
  },
  {
   "cell_type": "code",
   "execution_count": null,
   "id": "511e1621-a507-4cc9-9f2d-c479572d7c09",
   "metadata": {},
   "outputs": [],
   "source": []
  }
 ],
 "metadata": {
  "kernelspec": {
   "display_name": "p311",
   "language": "python",
   "name": "p311"
  },
  "language_info": {
   "codemirror_mode": {
    "name": "ipython",
    "version": 3
   },
   "file_extension": ".py",
   "mimetype": "text/x-python",
   "name": "python",
   "nbconvert_exporter": "python",
   "pygments_lexer": "ipython3",
   "version": "3.11.8"
  }
 },
 "nbformat": 4,
 "nbformat_minor": 5
}
